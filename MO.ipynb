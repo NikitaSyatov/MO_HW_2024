{
  "cells": [
    {
      "cell_type": "markdown",
      "metadata": {
        "id": "view-in-github",
        "colab_type": "text"
      },
      "source": [
        "<a href=\"https://colab.research.google.com/github/NikitaSyatov/MO_HW_2024/blob/main/MO.ipynb\" target=\"_parent\"><img src=\"https://colab.research.google.com/assets/colab-badge.svg\" alt=\"Open In Colab\"/></a>"
      ]
    },
    {
      "cell_type": "code",
      "execution_count": 75,
      "metadata": {
        "id": "bfX5HifBx3yY"
      },
      "outputs": [],
      "source": [
        "import pandas as pd\n",
        "import matplotlib.pyplot as plt\n",
        "import seaborn as sns\n",
        "import numpy as np\n",
        "from scipy.stats import pointbiserialr\n",
        "from sklearn.preprocessing import MinMaxScaler\n",
        "from sklearn.model_selection import train_test_split\n",
        "from sklearn.metrics import accuracy_score, r2_score\n",
        "from mlxtend.plotting import plot_decision_regions\n",
        "from sklearn.neighbors import KNeighborsClassifier, KNeighborsRegressor, KNeighborsRegressor\n",
        "from sklearn.linear_model import LogisticRegression"
      ]
    },
    {
      "cell_type": "markdown",
      "metadata": {
        "id": "Hnlw5-CKIzmt"
      },
      "source": [
        "Загрузка датасета"
      ]
    },
    {
      "cell_type": "code",
      "execution_count": 2,
      "metadata": {
        "colab": {
          "base_uri": "https://localhost:8080/"
        },
        "id": "cAXGo36Wew_x",
        "outputId": "5117ffb7-64ec-460a-fb8b-668879f168c1"
      },
      "outputs": [
        {
          "output_type": "stream",
          "name": "stdout",
          "text": [
            "<class 'pandas.core.frame.DataFrame'>\n",
            "RangeIndex: 175028 entries, 0 to 175027\n",
            "Data columns (total 25 columns):\n",
            " #   Column              Non-Null Count   Dtype  \n",
            "---  ------              --------------   -----  \n",
            " 0   Surname             175028 non-null  int64  \n",
            " 1   CreditScore         175028 non-null  float64\n",
            " 2   Age                 175028 non-null  float64\n",
            " 3   Tenure              175028 non-null  float64\n",
            " 4   Balance             175028 non-null  float64\n",
            " 5   NumOfProducts       175028 non-null  float64\n",
            " 6   HasCrCard           175028 non-null  int64  \n",
            " 7   IsActiveMember      175028 non-null  int64  \n",
            " 8   EstimatedSalary     175028 non-null  float64\n",
            " 9   Exited              175028 non-null  int64  \n",
            " 10  Surname_tfidf_0     175028 non-null  float64\n",
            " 11  Surname_tfidf_1     175028 non-null  float64\n",
            " 12  Surname_tfidf_2     175028 non-null  float64\n",
            " 13  Surname_tfidf_3     175028 non-null  float64\n",
            " 14  Surname_tfidf_4     175028 non-null  float64\n",
            " 15  France              175028 non-null  int64  \n",
            " 16  Germany             175028 non-null  int64  \n",
            " 17  Spain               175028 non-null  int64  \n",
            " 18  Female              175028 non-null  int64  \n",
            " 19  Male                175028 non-null  int64  \n",
            " 20  Mem__no__Products   175028 non-null  float64\n",
            " 21  Cred_Bal_Sal        175028 non-null  float64\n",
            " 22  Bal_sal             175028 non-null  float64\n",
            " 23  Tenure_Age          175028 non-null  float64\n",
            " 24  Age_Tenure_product  175028 non-null  float64\n",
            "dtypes: float64(16), int64(9)\n",
            "memory usage: 33.4 MB\n"
          ]
        }
      ],
      "source": [
        "df = pd.read_csv('/content/drive/MyDrive/MO/Dataset.csv')\n",
        "\n",
        "df.info()"
      ]
    },
    {
      "cell_type": "markdown",
      "metadata": {
        "id": "3hmCMkDOI5NR"
      },
      "source": [
        "Датасет содержит статистику по клиентам банка и тем, кто отказался от услуг банка. Будет решаться задача классификации: найти функциональную зависимость между характеристиками клиента и его решением оставаться клиентов банка или нет."
      ]
    },
    {
      "cell_type": "markdown",
      "metadata": {
        "id": "44eA_eH-LgnI"
      },
      "source": [
        "Description:\n",
        "- Surname : Label Encoded Surnames\n",
        "- Surname_tfidf_0-4 : Features made by applying TFIDF Vectorizer to the Surnames\n",
        "- Credit Score : A numerical value representing the customer's credit score\n",
        "- Geography: The country where the customer resides (France, Spain or Germany)\n",
        "- Gender: The customer's gender (Male or Female)\n",
        "- Age: The customer's age.\n",
        "- Tenure: The number of years the customer has been with the bank\n",
        "- Balance: The customer's account balance\n",
        "- NumOfProducts: The number of bank products the customer uses (e.g., savings account, credit card)\n",
        "- HasCrCard: Whether the customer has a credit card (1 = yes, 0 = no)\n",
        "- IsActiveMember: Whether the customer is an active member (1 = yes, 0 = no)\n",
        "- EstimatedSalary: The estimated salary of the customer\n",
        "- Exited: Whether the customer has churned (1 = yes, 0 = no)\n",
        "- Germany, France, Spain: One Hot Encoded Geography feature\n",
        "- Male, Female: One Hot Encoded Gender feature\n",
        "- Mem__no__Products: NumOfProducts * IsActiveMember\n",
        "- Cred_Bal_Sal: (Credit Score * Balance) / EstimatedSalary\n",
        "- Bal_sal: Balance / EstimatedSalary\n",
        "- Tenure_Age: Tenure / Age\n",
        "- Age_Tenure_product: Age * Tenure"
      ]
    },
    {
      "cell_type": "markdown",
      "metadata": {
        "id": "OCETmEKgJsB1"
      },
      "source": [
        "Удаление пустых строк:"
      ]
    },
    {
      "cell_type": "code",
      "execution_count": 3,
      "metadata": {
        "id": "0yvjbDoahP6V"
      },
      "outputs": [],
      "source": [
        "df.dropna(inplace=True)"
      ]
    },
    {
      "cell_type": "markdown",
      "metadata": {
        "id": "c3q-MiDRLiM4"
      },
      "source": []
    },
    {
      "cell_type": "markdown",
      "metadata": {
        "id": "bWeK7E3rJwBR"
      },
      "source": [
        "Вид датасета:"
      ]
    },
    {
      "cell_type": "code",
      "execution_count": 4,
      "metadata": {
        "colab": {
          "base_uri": "https://localhost:8080/",
          "height": 725
        },
        "id": "cjjr6WX-iaZ7",
        "outputId": "0ac757a7-1bc9-4478-89e4-40b0992ff609"
      },
      "outputs": [
        {
          "output_type": "execute_result",
          "data": {
            "text/plain": [
              "    Surname  CreditScore   Age  Tenure    Balance  NumOfProducts  HasCrCard  \\\n",
              "0      2023        668.0  33.0     3.0       0.00            2.0          1   \n",
              "1      2024        627.0  33.0     1.0       0.00            2.0          1   \n",
              "2      1236        678.0  40.0    10.0       0.00            2.0          1   \n",
              "3      1362        581.0  34.0     2.0  148882.54            1.0          1   \n",
              "4       491        716.0  33.0     5.0       0.00            2.0          1   \n",
              "5       984        588.0  36.0     4.0  131778.58            1.0          1   \n",
              "6       436        593.0  30.0     8.0  144772.69            1.0          1   \n",
              "7       543        678.0  37.0     1.0  138476.41            1.0          1   \n",
              "8      1669        676.0  43.0     4.0       0.00            2.0          1   \n",
              "9       427        583.0  40.0     4.0   81274.33            1.0          1   \n",
              "10      907        599.0  27.0     6.0  161801.47            2.0          1   \n",
              "11      527        687.0  40.0     3.0   90432.92            1.0          1   \n",
              "12     2316        759.0  71.0     9.0       0.00            1.0          1   \n",
              "13     2653        681.0  47.0     5.0       0.00            1.0          1   \n",
              "14      545        703.0  33.0     7.0  190566.65            1.0          1   \n",
              "15     2665        549.0  25.0     5.0       0.00            2.0          1   \n",
              "16     1630        602.0  36.0     7.0       0.00            2.0          0   \n",
              "17      827        636.0  36.0     4.0  117559.05            2.0          1   \n",
              "18     1117        645.0  55.0     8.0  120105.43            1.0          1   \n",
              "19     2655        559.0  61.0     1.0  153711.26            1.0          0   \n",
              "\n",
              "    IsActiveMember  EstimatedSalary  Exited  ...  France  Germany  Spain  \\\n",
              "0                0        181449.97       0  ...       1        0      0   \n",
              "1                1         49503.50       0  ...       1        0      0   \n",
              "2                0        184866.69       0  ...       1        0      0   \n",
              "3                1         84560.88       0  ...       1        0      0   \n",
              "4                1         15068.83       0  ...       0        0      1   \n",
              "5                0        136024.31       1  ...       0        1      0   \n",
              "6                0         29792.11       0  ...       1        0      0   \n",
              "7                0        106851.60       0  ...       0        0      1   \n",
              "8                0        142917.13       0  ...       1        0      0   \n",
              "9                1        170843.07       0  ...       0        1      0   \n",
              "10               0        109184.24       0  ...       0        1      0   \n",
              "11               0          1676.92       0  ...       0        1      0   \n",
              "12               1         93081.87       0  ...       0        0      1   \n",
              "13               1         72945.68       0  ...       1        0      0   \n",
              "14               1         79997.14       0  ...       1        0      0   \n",
              "15               0        162260.93       0  ...       1        0      0   \n",
              "16               1        135082.47       0  ...       1        0      0   \n",
              "17               0        111573.30       0  ...       1        0      0   \n",
              "18               0        125083.29       1  ...       0        1      0   \n",
              "19               1        180890.40       1  ...       1        0      0   \n",
              "\n",
              "    Female  Male  Mem__no__Products  Cred_Bal_Sal    Bal_sal  Tenure_Age  \\\n",
              "0        0     1                0.0      0.000000   0.000000    0.090909   \n",
              "1        0     1                2.0      0.000000   0.000000    0.030303   \n",
              "2        0     1                0.0      0.000000   0.000000    0.250000   \n",
              "3        0     1                1.0   1022.940581   1.760655    0.058824   \n",
              "4        0     1                2.0      0.000000   0.000000    0.151515   \n",
              "5        0     1                0.0    569.646742   0.968787    0.111111   \n",
              "6        1     0                0.0   2881.642326   4.859431    0.266667   \n",
              "7        0     1                0.0    878.667292   1.295969    0.027027   \n",
              "8        0     1                0.0      0.000000   0.000000    0.093023   \n",
              "9        0     1                1.0    277.347711   0.475725    0.100000   \n",
              "10       1     0                0.0    887.665477   1.481912    0.222222   \n",
              "11       0     1                0.0  37048.527085  53.927987    0.075000   \n",
              "12       0     1                1.0      0.000000   0.000000    0.126761   \n",
              "13       0     1                1.0      0.000000   0.000000    0.106383   \n",
              "14       1     0                1.0   1674.664306   2.382168    0.212121   \n",
              "15       1     0                0.0      0.000000   0.000000    0.200000   \n",
              "16       0     1                2.0      0.000000   0.000000    0.194444   \n",
              "17       0     1                0.0    670.120502   1.053649    0.111111   \n",
              "18       1     0                0.0    619.331346   0.960204    0.145455   \n",
              "19       0     1                1.0    475.009146   0.849748    0.016393   \n",
              "\n",
              "    Age_Tenure_product  \n",
              "0                 99.0  \n",
              "1                 33.0  \n",
              "2                400.0  \n",
              "3                 68.0  \n",
              "4                165.0  \n",
              "5                144.0  \n",
              "6                240.0  \n",
              "7                 37.0  \n",
              "8                172.0  \n",
              "9                160.0  \n",
              "10               162.0  \n",
              "11               120.0  \n",
              "12               639.0  \n",
              "13               235.0  \n",
              "14               231.0  \n",
              "15               125.0  \n",
              "16               252.0  \n",
              "17               144.0  \n",
              "18               440.0  \n",
              "19                61.0  \n",
              "\n",
              "[20 rows x 25 columns]"
            ],
            "text/html": [
              "\n",
              "  <div id=\"df-788a5855-d79d-4649-aef5-d61808071ce3\" class=\"colab-df-container\">\n",
              "    <div>\n",
              "<style scoped>\n",
              "    .dataframe tbody tr th:only-of-type {\n",
              "        vertical-align: middle;\n",
              "    }\n",
              "\n",
              "    .dataframe tbody tr th {\n",
              "        vertical-align: top;\n",
              "    }\n",
              "\n",
              "    .dataframe thead th {\n",
              "        text-align: right;\n",
              "    }\n",
              "</style>\n",
              "<table border=\"1\" class=\"dataframe\">\n",
              "  <thead>\n",
              "    <tr style=\"text-align: right;\">\n",
              "      <th></th>\n",
              "      <th>Surname</th>\n",
              "      <th>CreditScore</th>\n",
              "      <th>Age</th>\n",
              "      <th>Tenure</th>\n",
              "      <th>Balance</th>\n",
              "      <th>NumOfProducts</th>\n",
              "      <th>HasCrCard</th>\n",
              "      <th>IsActiveMember</th>\n",
              "      <th>EstimatedSalary</th>\n",
              "      <th>Exited</th>\n",
              "      <th>...</th>\n",
              "      <th>France</th>\n",
              "      <th>Germany</th>\n",
              "      <th>Spain</th>\n",
              "      <th>Female</th>\n",
              "      <th>Male</th>\n",
              "      <th>Mem__no__Products</th>\n",
              "      <th>Cred_Bal_Sal</th>\n",
              "      <th>Bal_sal</th>\n",
              "      <th>Tenure_Age</th>\n",
              "      <th>Age_Tenure_product</th>\n",
              "    </tr>\n",
              "  </thead>\n",
              "  <tbody>\n",
              "    <tr>\n",
              "      <th>0</th>\n",
              "      <td>2023</td>\n",
              "      <td>668.0</td>\n",
              "      <td>33.0</td>\n",
              "      <td>3.0</td>\n",
              "      <td>0.00</td>\n",
              "      <td>2.0</td>\n",
              "      <td>1</td>\n",
              "      <td>0</td>\n",
              "      <td>181449.97</td>\n",
              "      <td>0</td>\n",
              "      <td>...</td>\n",
              "      <td>1</td>\n",
              "      <td>0</td>\n",
              "      <td>0</td>\n",
              "      <td>0</td>\n",
              "      <td>1</td>\n",
              "      <td>0.0</td>\n",
              "      <td>0.000000</td>\n",
              "      <td>0.000000</td>\n",
              "      <td>0.090909</td>\n",
              "      <td>99.0</td>\n",
              "    </tr>\n",
              "    <tr>\n",
              "      <th>1</th>\n",
              "      <td>2024</td>\n",
              "      <td>627.0</td>\n",
              "      <td>33.0</td>\n",
              "      <td>1.0</td>\n",
              "      <td>0.00</td>\n",
              "      <td>2.0</td>\n",
              "      <td>1</td>\n",
              "      <td>1</td>\n",
              "      <td>49503.50</td>\n",
              "      <td>0</td>\n",
              "      <td>...</td>\n",
              "      <td>1</td>\n",
              "      <td>0</td>\n",
              "      <td>0</td>\n",
              "      <td>0</td>\n",
              "      <td>1</td>\n",
              "      <td>2.0</td>\n",
              "      <td>0.000000</td>\n",
              "      <td>0.000000</td>\n",
              "      <td>0.030303</td>\n",
              "      <td>33.0</td>\n",
              "    </tr>\n",
              "    <tr>\n",
              "      <th>2</th>\n",
              "      <td>1236</td>\n",
              "      <td>678.0</td>\n",
              "      <td>40.0</td>\n",
              "      <td>10.0</td>\n",
              "      <td>0.00</td>\n",
              "      <td>2.0</td>\n",
              "      <td>1</td>\n",
              "      <td>0</td>\n",
              "      <td>184866.69</td>\n",
              "      <td>0</td>\n",
              "      <td>...</td>\n",
              "      <td>1</td>\n",
              "      <td>0</td>\n",
              "      <td>0</td>\n",
              "      <td>0</td>\n",
              "      <td>1</td>\n",
              "      <td>0.0</td>\n",
              "      <td>0.000000</td>\n",
              "      <td>0.000000</td>\n",
              "      <td>0.250000</td>\n",
              "      <td>400.0</td>\n",
              "    </tr>\n",
              "    <tr>\n",
              "      <th>3</th>\n",
              "      <td>1362</td>\n",
              "      <td>581.0</td>\n",
              "      <td>34.0</td>\n",
              "      <td>2.0</td>\n",
              "      <td>148882.54</td>\n",
              "      <td>1.0</td>\n",
              "      <td>1</td>\n",
              "      <td>1</td>\n",
              "      <td>84560.88</td>\n",
              "      <td>0</td>\n",
              "      <td>...</td>\n",
              "      <td>1</td>\n",
              "      <td>0</td>\n",
              "      <td>0</td>\n",
              "      <td>0</td>\n",
              "      <td>1</td>\n",
              "      <td>1.0</td>\n",
              "      <td>1022.940581</td>\n",
              "      <td>1.760655</td>\n",
              "      <td>0.058824</td>\n",
              "      <td>68.0</td>\n",
              "    </tr>\n",
              "    <tr>\n",
              "      <th>4</th>\n",
              "      <td>491</td>\n",
              "      <td>716.0</td>\n",
              "      <td>33.0</td>\n",
              "      <td>5.0</td>\n",
              "      <td>0.00</td>\n",
              "      <td>2.0</td>\n",
              "      <td>1</td>\n",
              "      <td>1</td>\n",
              "      <td>15068.83</td>\n",
              "      <td>0</td>\n",
              "      <td>...</td>\n",
              "      <td>0</td>\n",
              "      <td>0</td>\n",
              "      <td>1</td>\n",
              "      <td>0</td>\n",
              "      <td>1</td>\n",
              "      <td>2.0</td>\n",
              "      <td>0.000000</td>\n",
              "      <td>0.000000</td>\n",
              "      <td>0.151515</td>\n",
              "      <td>165.0</td>\n",
              "    </tr>\n",
              "    <tr>\n",
              "      <th>5</th>\n",
              "      <td>984</td>\n",
              "      <td>588.0</td>\n",
              "      <td>36.0</td>\n",
              "      <td>4.0</td>\n",
              "      <td>131778.58</td>\n",
              "      <td>1.0</td>\n",
              "      <td>1</td>\n",
              "      <td>0</td>\n",
              "      <td>136024.31</td>\n",
              "      <td>1</td>\n",
              "      <td>...</td>\n",
              "      <td>0</td>\n",
              "      <td>1</td>\n",
              "      <td>0</td>\n",
              "      <td>0</td>\n",
              "      <td>1</td>\n",
              "      <td>0.0</td>\n",
              "      <td>569.646742</td>\n",
              "      <td>0.968787</td>\n",
              "      <td>0.111111</td>\n",
              "      <td>144.0</td>\n",
              "    </tr>\n",
              "    <tr>\n",
              "      <th>6</th>\n",
              "      <td>436</td>\n",
              "      <td>593.0</td>\n",
              "      <td>30.0</td>\n",
              "      <td>8.0</td>\n",
              "      <td>144772.69</td>\n",
              "      <td>1.0</td>\n",
              "      <td>1</td>\n",
              "      <td>0</td>\n",
              "      <td>29792.11</td>\n",
              "      <td>0</td>\n",
              "      <td>...</td>\n",
              "      <td>1</td>\n",
              "      <td>0</td>\n",
              "      <td>0</td>\n",
              "      <td>1</td>\n",
              "      <td>0</td>\n",
              "      <td>0.0</td>\n",
              "      <td>2881.642326</td>\n",
              "      <td>4.859431</td>\n",
              "      <td>0.266667</td>\n",
              "      <td>240.0</td>\n",
              "    </tr>\n",
              "    <tr>\n",
              "      <th>7</th>\n",
              "      <td>543</td>\n",
              "      <td>678.0</td>\n",
              "      <td>37.0</td>\n",
              "      <td>1.0</td>\n",
              "      <td>138476.41</td>\n",
              "      <td>1.0</td>\n",
              "      <td>1</td>\n",
              "      <td>0</td>\n",
              "      <td>106851.60</td>\n",
              "      <td>0</td>\n",
              "      <td>...</td>\n",
              "      <td>0</td>\n",
              "      <td>0</td>\n",
              "      <td>1</td>\n",
              "      <td>0</td>\n",
              "      <td>1</td>\n",
              "      <td>0.0</td>\n",
              "      <td>878.667292</td>\n",
              "      <td>1.295969</td>\n",
              "      <td>0.027027</td>\n",
              "      <td>37.0</td>\n",
              "    </tr>\n",
              "    <tr>\n",
              "      <th>8</th>\n",
              "      <td>1669</td>\n",
              "      <td>676.0</td>\n",
              "      <td>43.0</td>\n",
              "      <td>4.0</td>\n",
              "      <td>0.00</td>\n",
              "      <td>2.0</td>\n",
              "      <td>1</td>\n",
              "      <td>0</td>\n",
              "      <td>142917.13</td>\n",
              "      <td>0</td>\n",
              "      <td>...</td>\n",
              "      <td>1</td>\n",
              "      <td>0</td>\n",
              "      <td>0</td>\n",
              "      <td>0</td>\n",
              "      <td>1</td>\n",
              "      <td>0.0</td>\n",
              "      <td>0.000000</td>\n",
              "      <td>0.000000</td>\n",
              "      <td>0.093023</td>\n",
              "      <td>172.0</td>\n",
              "    </tr>\n",
              "    <tr>\n",
              "      <th>9</th>\n",
              "      <td>427</td>\n",
              "      <td>583.0</td>\n",
              "      <td>40.0</td>\n",
              "      <td>4.0</td>\n",
              "      <td>81274.33</td>\n",
              "      <td>1.0</td>\n",
              "      <td>1</td>\n",
              "      <td>1</td>\n",
              "      <td>170843.07</td>\n",
              "      <td>0</td>\n",
              "      <td>...</td>\n",
              "      <td>0</td>\n",
              "      <td>1</td>\n",
              "      <td>0</td>\n",
              "      <td>0</td>\n",
              "      <td>1</td>\n",
              "      <td>1.0</td>\n",
              "      <td>277.347711</td>\n",
              "      <td>0.475725</td>\n",
              "      <td>0.100000</td>\n",
              "      <td>160.0</td>\n",
              "    </tr>\n",
              "    <tr>\n",
              "      <th>10</th>\n",
              "      <td>907</td>\n",
              "      <td>599.0</td>\n",
              "      <td>27.0</td>\n",
              "      <td>6.0</td>\n",
              "      <td>161801.47</td>\n",
              "      <td>2.0</td>\n",
              "      <td>1</td>\n",
              "      <td>0</td>\n",
              "      <td>109184.24</td>\n",
              "      <td>0</td>\n",
              "      <td>...</td>\n",
              "      <td>0</td>\n",
              "      <td>1</td>\n",
              "      <td>0</td>\n",
              "      <td>1</td>\n",
              "      <td>0</td>\n",
              "      <td>0.0</td>\n",
              "      <td>887.665477</td>\n",
              "      <td>1.481912</td>\n",
              "      <td>0.222222</td>\n",
              "      <td>162.0</td>\n",
              "    </tr>\n",
              "    <tr>\n",
              "      <th>11</th>\n",
              "      <td>527</td>\n",
              "      <td>687.0</td>\n",
              "      <td>40.0</td>\n",
              "      <td>3.0</td>\n",
              "      <td>90432.92</td>\n",
              "      <td>1.0</td>\n",
              "      <td>1</td>\n",
              "      <td>0</td>\n",
              "      <td>1676.92</td>\n",
              "      <td>0</td>\n",
              "      <td>...</td>\n",
              "      <td>0</td>\n",
              "      <td>1</td>\n",
              "      <td>0</td>\n",
              "      <td>0</td>\n",
              "      <td>1</td>\n",
              "      <td>0.0</td>\n",
              "      <td>37048.527085</td>\n",
              "      <td>53.927987</td>\n",
              "      <td>0.075000</td>\n",
              "      <td>120.0</td>\n",
              "    </tr>\n",
              "    <tr>\n",
              "      <th>12</th>\n",
              "      <td>2316</td>\n",
              "      <td>759.0</td>\n",
              "      <td>71.0</td>\n",
              "      <td>9.0</td>\n",
              "      <td>0.00</td>\n",
              "      <td>1.0</td>\n",
              "      <td>1</td>\n",
              "      <td>1</td>\n",
              "      <td>93081.87</td>\n",
              "      <td>0</td>\n",
              "      <td>...</td>\n",
              "      <td>0</td>\n",
              "      <td>0</td>\n",
              "      <td>1</td>\n",
              "      <td>0</td>\n",
              "      <td>1</td>\n",
              "      <td>1.0</td>\n",
              "      <td>0.000000</td>\n",
              "      <td>0.000000</td>\n",
              "      <td>0.126761</td>\n",
              "      <td>639.0</td>\n",
              "    </tr>\n",
              "    <tr>\n",
              "      <th>13</th>\n",
              "      <td>2653</td>\n",
              "      <td>681.0</td>\n",
              "      <td>47.0</td>\n",
              "      <td>5.0</td>\n",
              "      <td>0.00</td>\n",
              "      <td>1.0</td>\n",
              "      <td>1</td>\n",
              "      <td>1</td>\n",
              "      <td>72945.68</td>\n",
              "      <td>0</td>\n",
              "      <td>...</td>\n",
              "      <td>1</td>\n",
              "      <td>0</td>\n",
              "      <td>0</td>\n",
              "      <td>0</td>\n",
              "      <td>1</td>\n",
              "      <td>1.0</td>\n",
              "      <td>0.000000</td>\n",
              "      <td>0.000000</td>\n",
              "      <td>0.106383</td>\n",
              "      <td>235.0</td>\n",
              "    </tr>\n",
              "    <tr>\n",
              "      <th>14</th>\n",
              "      <td>545</td>\n",
              "      <td>703.0</td>\n",
              "      <td>33.0</td>\n",
              "      <td>7.0</td>\n",
              "      <td>190566.65</td>\n",
              "      <td>1.0</td>\n",
              "      <td>1</td>\n",
              "      <td>1</td>\n",
              "      <td>79997.14</td>\n",
              "      <td>0</td>\n",
              "      <td>...</td>\n",
              "      <td>1</td>\n",
              "      <td>0</td>\n",
              "      <td>0</td>\n",
              "      <td>1</td>\n",
              "      <td>0</td>\n",
              "      <td>1.0</td>\n",
              "      <td>1674.664306</td>\n",
              "      <td>2.382168</td>\n",
              "      <td>0.212121</td>\n",
              "      <td>231.0</td>\n",
              "    </tr>\n",
              "    <tr>\n",
              "      <th>15</th>\n",
              "      <td>2665</td>\n",
              "      <td>549.0</td>\n",
              "      <td>25.0</td>\n",
              "      <td>5.0</td>\n",
              "      <td>0.00</td>\n",
              "      <td>2.0</td>\n",
              "      <td>1</td>\n",
              "      <td>0</td>\n",
              "      <td>162260.93</td>\n",
              "      <td>0</td>\n",
              "      <td>...</td>\n",
              "      <td>1</td>\n",
              "      <td>0</td>\n",
              "      <td>0</td>\n",
              "      <td>1</td>\n",
              "      <td>0</td>\n",
              "      <td>0.0</td>\n",
              "      <td>0.000000</td>\n",
              "      <td>0.000000</td>\n",
              "      <td>0.200000</td>\n",
              "      <td>125.0</td>\n",
              "    </tr>\n",
              "    <tr>\n",
              "      <th>16</th>\n",
              "      <td>1630</td>\n",
              "      <td>602.0</td>\n",
              "      <td>36.0</td>\n",
              "      <td>7.0</td>\n",
              "      <td>0.00</td>\n",
              "      <td>2.0</td>\n",
              "      <td>0</td>\n",
              "      <td>1</td>\n",
              "      <td>135082.47</td>\n",
              "      <td>0</td>\n",
              "      <td>...</td>\n",
              "      <td>1</td>\n",
              "      <td>0</td>\n",
              "      <td>0</td>\n",
              "      <td>0</td>\n",
              "      <td>1</td>\n",
              "      <td>2.0</td>\n",
              "      <td>0.000000</td>\n",
              "      <td>0.000000</td>\n",
              "      <td>0.194444</td>\n",
              "      <td>252.0</td>\n",
              "    </tr>\n",
              "    <tr>\n",
              "      <th>17</th>\n",
              "      <td>827</td>\n",
              "      <td>636.0</td>\n",
              "      <td>36.0</td>\n",
              "      <td>4.0</td>\n",
              "      <td>117559.05</td>\n",
              "      <td>2.0</td>\n",
              "      <td>1</td>\n",
              "      <td>0</td>\n",
              "      <td>111573.30</td>\n",
              "      <td>0</td>\n",
              "      <td>...</td>\n",
              "      <td>1</td>\n",
              "      <td>0</td>\n",
              "      <td>0</td>\n",
              "      <td>0</td>\n",
              "      <td>1</td>\n",
              "      <td>0.0</td>\n",
              "      <td>670.120502</td>\n",
              "      <td>1.053649</td>\n",
              "      <td>0.111111</td>\n",
              "      <td>144.0</td>\n",
              "    </tr>\n",
              "    <tr>\n",
              "      <th>18</th>\n",
              "      <td>1117</td>\n",
              "      <td>645.0</td>\n",
              "      <td>55.0</td>\n",
              "      <td>8.0</td>\n",
              "      <td>120105.43</td>\n",
              "      <td>1.0</td>\n",
              "      <td>1</td>\n",
              "      <td>0</td>\n",
              "      <td>125083.29</td>\n",
              "      <td>1</td>\n",
              "      <td>...</td>\n",
              "      <td>0</td>\n",
              "      <td>1</td>\n",
              "      <td>0</td>\n",
              "      <td>1</td>\n",
              "      <td>0</td>\n",
              "      <td>0.0</td>\n",
              "      <td>619.331346</td>\n",
              "      <td>0.960204</td>\n",
              "      <td>0.145455</td>\n",
              "      <td>440.0</td>\n",
              "    </tr>\n",
              "    <tr>\n",
              "      <th>19</th>\n",
              "      <td>2655</td>\n",
              "      <td>559.0</td>\n",
              "      <td>61.0</td>\n",
              "      <td>1.0</td>\n",
              "      <td>153711.26</td>\n",
              "      <td>1.0</td>\n",
              "      <td>0</td>\n",
              "      <td>1</td>\n",
              "      <td>180890.40</td>\n",
              "      <td>1</td>\n",
              "      <td>...</td>\n",
              "      <td>1</td>\n",
              "      <td>0</td>\n",
              "      <td>0</td>\n",
              "      <td>0</td>\n",
              "      <td>1</td>\n",
              "      <td>1.0</td>\n",
              "      <td>475.009146</td>\n",
              "      <td>0.849748</td>\n",
              "      <td>0.016393</td>\n",
              "      <td>61.0</td>\n",
              "    </tr>\n",
              "  </tbody>\n",
              "</table>\n",
              "<p>20 rows × 25 columns</p>\n",
              "</div>\n",
              "    <div class=\"colab-df-buttons\">\n",
              "\n",
              "  <div class=\"colab-df-container\">\n",
              "    <button class=\"colab-df-convert\" onclick=\"convertToInteractive('df-788a5855-d79d-4649-aef5-d61808071ce3')\"\n",
              "            title=\"Convert this dataframe to an interactive table.\"\n",
              "            style=\"display:none;\">\n",
              "\n",
              "  <svg xmlns=\"http://www.w3.org/2000/svg\" height=\"24px\" viewBox=\"0 -960 960 960\">\n",
              "    <path d=\"M120-120v-720h720v720H120Zm60-500h600v-160H180v160Zm220 220h160v-160H400v160Zm0 220h160v-160H400v160ZM180-400h160v-160H180v160Zm440 0h160v-160H620v160ZM180-180h160v-160H180v160Zm440 0h160v-160H620v160Z\"/>\n",
              "  </svg>\n",
              "    </button>\n",
              "\n",
              "  <style>\n",
              "    .colab-df-container {\n",
              "      display:flex;\n",
              "      gap: 12px;\n",
              "    }\n",
              "\n",
              "    .colab-df-convert {\n",
              "      background-color: #E8F0FE;\n",
              "      border: none;\n",
              "      border-radius: 50%;\n",
              "      cursor: pointer;\n",
              "      display: none;\n",
              "      fill: #1967D2;\n",
              "      height: 32px;\n",
              "      padding: 0 0 0 0;\n",
              "      width: 32px;\n",
              "    }\n",
              "\n",
              "    .colab-df-convert:hover {\n",
              "      background-color: #E2EBFA;\n",
              "      box-shadow: 0px 1px 2px rgba(60, 64, 67, 0.3), 0px 1px 3px 1px rgba(60, 64, 67, 0.15);\n",
              "      fill: #174EA6;\n",
              "    }\n",
              "\n",
              "    .colab-df-buttons div {\n",
              "      margin-bottom: 4px;\n",
              "    }\n",
              "\n",
              "    [theme=dark] .colab-df-convert {\n",
              "      background-color: #3B4455;\n",
              "      fill: #D2E3FC;\n",
              "    }\n",
              "\n",
              "    [theme=dark] .colab-df-convert:hover {\n",
              "      background-color: #434B5C;\n",
              "      box-shadow: 0px 1px 3px 1px rgba(0, 0, 0, 0.15);\n",
              "      filter: drop-shadow(0px 1px 2px rgba(0, 0, 0, 0.3));\n",
              "      fill: #FFFFFF;\n",
              "    }\n",
              "  </style>\n",
              "\n",
              "    <script>\n",
              "      const buttonEl =\n",
              "        document.querySelector('#df-788a5855-d79d-4649-aef5-d61808071ce3 button.colab-df-convert');\n",
              "      buttonEl.style.display =\n",
              "        google.colab.kernel.accessAllowed ? 'block' : 'none';\n",
              "\n",
              "      async function convertToInteractive(key) {\n",
              "        const element = document.querySelector('#df-788a5855-d79d-4649-aef5-d61808071ce3');\n",
              "        const dataTable =\n",
              "          await google.colab.kernel.invokeFunction('convertToInteractive',\n",
              "                                                    [key], {});\n",
              "        if (!dataTable) return;\n",
              "\n",
              "        const docLinkHtml = 'Like what you see? Visit the ' +\n",
              "          '<a target=\"_blank\" href=https://colab.research.google.com/notebooks/data_table.ipynb>data table notebook</a>'\n",
              "          + ' to learn more about interactive tables.';\n",
              "        element.innerHTML = '';\n",
              "        dataTable['output_type'] = 'display_data';\n",
              "        await google.colab.output.renderOutput(dataTable, element);\n",
              "        const docLink = document.createElement('div');\n",
              "        docLink.innerHTML = docLinkHtml;\n",
              "        element.appendChild(docLink);\n",
              "      }\n",
              "    </script>\n",
              "  </div>\n",
              "\n",
              "\n",
              "<div id=\"df-4e9fd25d-ca51-4f23-b834-729010f00f8d\">\n",
              "  <button class=\"colab-df-quickchart\" onclick=\"quickchart('df-4e9fd25d-ca51-4f23-b834-729010f00f8d')\"\n",
              "            title=\"Suggest charts\"\n",
              "            style=\"display:none;\">\n",
              "\n",
              "<svg xmlns=\"http://www.w3.org/2000/svg\" height=\"24px\"viewBox=\"0 0 24 24\"\n",
              "     width=\"24px\">\n",
              "    <g>\n",
              "        <path d=\"M19 3H5c-1.1 0-2 .9-2 2v14c0 1.1.9 2 2 2h14c1.1 0 2-.9 2-2V5c0-1.1-.9-2-2-2zM9 17H7v-7h2v7zm4 0h-2V7h2v10zm4 0h-2v-4h2v4z\"/>\n",
              "    </g>\n",
              "</svg>\n",
              "  </button>\n",
              "\n",
              "<style>\n",
              "  .colab-df-quickchart {\n",
              "      --bg-color: #E8F0FE;\n",
              "      --fill-color: #1967D2;\n",
              "      --hover-bg-color: #E2EBFA;\n",
              "      --hover-fill-color: #174EA6;\n",
              "      --disabled-fill-color: #AAA;\n",
              "      --disabled-bg-color: #DDD;\n",
              "  }\n",
              "\n",
              "  [theme=dark] .colab-df-quickchart {\n",
              "      --bg-color: #3B4455;\n",
              "      --fill-color: #D2E3FC;\n",
              "      --hover-bg-color: #434B5C;\n",
              "      --hover-fill-color: #FFFFFF;\n",
              "      --disabled-bg-color: #3B4455;\n",
              "      --disabled-fill-color: #666;\n",
              "  }\n",
              "\n",
              "  .colab-df-quickchart {\n",
              "    background-color: var(--bg-color);\n",
              "    border: none;\n",
              "    border-radius: 50%;\n",
              "    cursor: pointer;\n",
              "    display: none;\n",
              "    fill: var(--fill-color);\n",
              "    height: 32px;\n",
              "    padding: 0;\n",
              "    width: 32px;\n",
              "  }\n",
              "\n",
              "  .colab-df-quickchart:hover {\n",
              "    background-color: var(--hover-bg-color);\n",
              "    box-shadow: 0 1px 2px rgba(60, 64, 67, 0.3), 0 1px 3px 1px rgba(60, 64, 67, 0.15);\n",
              "    fill: var(--button-hover-fill-color);\n",
              "  }\n",
              "\n",
              "  .colab-df-quickchart-complete:disabled,\n",
              "  .colab-df-quickchart-complete:disabled:hover {\n",
              "    background-color: var(--disabled-bg-color);\n",
              "    fill: var(--disabled-fill-color);\n",
              "    box-shadow: none;\n",
              "  }\n",
              "\n",
              "  .colab-df-spinner {\n",
              "    border: 2px solid var(--fill-color);\n",
              "    border-color: transparent;\n",
              "    border-bottom-color: var(--fill-color);\n",
              "    animation:\n",
              "      spin 1s steps(1) infinite;\n",
              "  }\n",
              "\n",
              "  @keyframes spin {\n",
              "    0% {\n",
              "      border-color: transparent;\n",
              "      border-bottom-color: var(--fill-color);\n",
              "      border-left-color: var(--fill-color);\n",
              "    }\n",
              "    20% {\n",
              "      border-color: transparent;\n",
              "      border-left-color: var(--fill-color);\n",
              "      border-top-color: var(--fill-color);\n",
              "    }\n",
              "    30% {\n",
              "      border-color: transparent;\n",
              "      border-left-color: var(--fill-color);\n",
              "      border-top-color: var(--fill-color);\n",
              "      border-right-color: var(--fill-color);\n",
              "    }\n",
              "    40% {\n",
              "      border-color: transparent;\n",
              "      border-right-color: var(--fill-color);\n",
              "      border-top-color: var(--fill-color);\n",
              "    }\n",
              "    60% {\n",
              "      border-color: transparent;\n",
              "      border-right-color: var(--fill-color);\n",
              "    }\n",
              "    80% {\n",
              "      border-color: transparent;\n",
              "      border-right-color: var(--fill-color);\n",
              "      border-bottom-color: var(--fill-color);\n",
              "    }\n",
              "    90% {\n",
              "      border-color: transparent;\n",
              "      border-bottom-color: var(--fill-color);\n",
              "    }\n",
              "  }\n",
              "</style>\n",
              "\n",
              "  <script>\n",
              "    async function quickchart(key) {\n",
              "      const quickchartButtonEl =\n",
              "        document.querySelector('#' + key + ' button');\n",
              "      quickchartButtonEl.disabled = true;  // To prevent multiple clicks.\n",
              "      quickchartButtonEl.classList.add('colab-df-spinner');\n",
              "      try {\n",
              "        const charts = await google.colab.kernel.invokeFunction(\n",
              "            'suggestCharts', [key], {});\n",
              "      } catch (error) {\n",
              "        console.error('Error during call to suggestCharts:', error);\n",
              "      }\n",
              "      quickchartButtonEl.classList.remove('colab-df-spinner');\n",
              "      quickchartButtonEl.classList.add('colab-df-quickchart-complete');\n",
              "    }\n",
              "    (() => {\n",
              "      let quickchartButtonEl =\n",
              "        document.querySelector('#df-4e9fd25d-ca51-4f23-b834-729010f00f8d button');\n",
              "      quickchartButtonEl.style.display =\n",
              "        google.colab.kernel.accessAllowed ? 'block' : 'none';\n",
              "    })();\n",
              "  </script>\n",
              "</div>\n",
              "\n",
              "    </div>\n",
              "  </div>\n"
            ],
            "application/vnd.google.colaboratory.intrinsic+json": {
              "type": "dataframe",
              "variable_name": "df"
            }
          },
          "metadata": {},
          "execution_count": 4
        }
      ],
      "source": [
        "df.head(20)"
      ]
    },
    {
      "cell_type": "markdown",
      "metadata": {
        "id": "npkpOgaUD7QF"
      },
      "source": [
        "Число строк в датасете:"
      ]
    },
    {
      "cell_type": "code",
      "execution_count": 5,
      "metadata": {
        "colab": {
          "base_uri": "https://localhost:8080/"
        },
        "id": "nkXd5cE--OxR",
        "outputId": "27e371c9-0e26-4f36-fdd1-72724bd73f31"
      },
      "outputs": [
        {
          "output_type": "execute_result",
          "data": {
            "text/plain": [
              "175028"
            ]
          },
          "metadata": {},
          "execution_count": 5
        }
      ],
      "source": [
        "count_row = df.shape[0]\n",
        "count_row"
      ]
    },
    {
      "cell_type": "markdown",
      "metadata": {
        "id": "qAuCyJJuEMgZ"
      },
      "source": [
        "Соотношение классов:"
      ]
    },
    {
      "cell_type": "code",
      "execution_count": 6,
      "metadata": {
        "colab": {
          "base_uri": "https://localhost:8080/",
          "height": 178
        },
        "id": "eqHFIwKpi1FG",
        "outputId": "ba7ae3ca-92f4-418a-8fa5-3f5e40009d56"
      },
      "outputs": [
        {
          "output_type": "execute_result",
          "data": {
            "text/plain": [
              "Exited\n",
              "0    0.788851\n",
              "1    0.211149\n",
              "Name: count, dtype: float64"
            ],
            "text/html": [
              "<div>\n",
              "<style scoped>\n",
              "    .dataframe tbody tr th:only-of-type {\n",
              "        vertical-align: middle;\n",
              "    }\n",
              "\n",
              "    .dataframe tbody tr th {\n",
              "        vertical-align: top;\n",
              "    }\n",
              "\n",
              "    .dataframe thead th {\n",
              "        text-align: right;\n",
              "    }\n",
              "</style>\n",
              "<table border=\"1\" class=\"dataframe\">\n",
              "  <thead>\n",
              "    <tr style=\"text-align: right;\">\n",
              "      <th></th>\n",
              "      <th>count</th>\n",
              "    </tr>\n",
              "    <tr>\n",
              "      <th>Exited</th>\n",
              "      <th></th>\n",
              "    </tr>\n",
              "  </thead>\n",
              "  <tbody>\n",
              "    <tr>\n",
              "      <th>0</th>\n",
              "      <td>0.788851</td>\n",
              "    </tr>\n",
              "    <tr>\n",
              "      <th>1</th>\n",
              "      <td>0.211149</td>\n",
              "    </tr>\n",
              "  </tbody>\n",
              "</table>\n",
              "</div><br><label><b>dtype:</b> float64</label>"
            ]
          },
          "metadata": {},
          "execution_count": 6
        }
      ],
      "source": [
        "count_churn = df[\"Exited\"].value_counts()\n",
        "\n",
        "count_churn = count_churn / count_row\n",
        "\n",
        "count_churn"
      ]
    },
    {
      "cell_type": "markdown",
      "metadata": {
        "id": "3x4VWgMOJ2rq"
      },
      "source": [
        "Классы несбалансированные. Ушедших из банка клиентов меньше."
      ]
    },
    {
      "cell_type": "markdown",
      "metadata": {
        "id": "yz8Zt4DeQkyc"
      },
      "source": [
        "Среднее по столбцам:"
      ]
    },
    {
      "cell_type": "code",
      "execution_count": 7,
      "metadata": {
        "colab": {
          "base_uri": "https://localhost:8080/",
          "height": 868
        },
        "id": "bb5X8gd8QnFD",
        "outputId": "96142651-1be6-4fed-bbad-582c4ab866d9"
      },
      "outputs": [
        {
          "output_type": "execute_result",
          "data": {
            "text/plain": [
              "Surname                 1617.462812\n",
              "CreditScore              656.113068\n",
              "Age                       38.171337\n",
              "Tenure                     5.019968\n",
              "Balance                56676.772103\n",
              "NumOfProducts              1.553072\n",
              "HasCrCard                  0.751183\n",
              "IsActiveMember             0.498754\n",
              "EstimatedSalary       111863.295024\n",
              "Exited                     0.211149\n",
              "Surname_tfidf_0            0.029622\n",
              "Surname_tfidf_1            0.014147\n",
              "Surname_tfidf_2           -0.008085\n",
              "Surname_tfidf_3            0.015383\n",
              "Surname_tfidf_4            0.004054\n",
              "France                     0.566909\n",
              "Germany                    0.212046\n",
              "Spain                      0.221045\n",
              "Female                     0.436644\n",
              "Male                       0.563356\n",
              "Mem__no__Products          0.784989\n",
              "Cred_Bal_Sal            1444.363151\n",
              "Bal_sal                    2.202494\n",
              "Tenure_Age                 0.138587\n",
              "Age_Tenure_product       191.346929\n",
              "dtype: float64"
            ],
            "text/html": [
              "<div>\n",
              "<style scoped>\n",
              "    .dataframe tbody tr th:only-of-type {\n",
              "        vertical-align: middle;\n",
              "    }\n",
              "\n",
              "    .dataframe tbody tr th {\n",
              "        vertical-align: top;\n",
              "    }\n",
              "\n",
              "    .dataframe thead th {\n",
              "        text-align: right;\n",
              "    }\n",
              "</style>\n",
              "<table border=\"1\" class=\"dataframe\">\n",
              "  <thead>\n",
              "    <tr style=\"text-align: right;\">\n",
              "      <th></th>\n",
              "      <th>0</th>\n",
              "    </tr>\n",
              "  </thead>\n",
              "  <tbody>\n",
              "    <tr>\n",
              "      <th>Surname</th>\n",
              "      <td>1617.462812</td>\n",
              "    </tr>\n",
              "    <tr>\n",
              "      <th>CreditScore</th>\n",
              "      <td>656.113068</td>\n",
              "    </tr>\n",
              "    <tr>\n",
              "      <th>Age</th>\n",
              "      <td>38.171337</td>\n",
              "    </tr>\n",
              "    <tr>\n",
              "      <th>Tenure</th>\n",
              "      <td>5.019968</td>\n",
              "    </tr>\n",
              "    <tr>\n",
              "      <th>Balance</th>\n",
              "      <td>56676.772103</td>\n",
              "    </tr>\n",
              "    <tr>\n",
              "      <th>NumOfProducts</th>\n",
              "      <td>1.553072</td>\n",
              "    </tr>\n",
              "    <tr>\n",
              "      <th>HasCrCard</th>\n",
              "      <td>0.751183</td>\n",
              "    </tr>\n",
              "    <tr>\n",
              "      <th>IsActiveMember</th>\n",
              "      <td>0.498754</td>\n",
              "    </tr>\n",
              "    <tr>\n",
              "      <th>EstimatedSalary</th>\n",
              "      <td>111863.295024</td>\n",
              "    </tr>\n",
              "    <tr>\n",
              "      <th>Exited</th>\n",
              "      <td>0.211149</td>\n",
              "    </tr>\n",
              "    <tr>\n",
              "      <th>Surname_tfidf_0</th>\n",
              "      <td>0.029622</td>\n",
              "    </tr>\n",
              "    <tr>\n",
              "      <th>Surname_tfidf_1</th>\n",
              "      <td>0.014147</td>\n",
              "    </tr>\n",
              "    <tr>\n",
              "      <th>Surname_tfidf_2</th>\n",
              "      <td>-0.008085</td>\n",
              "    </tr>\n",
              "    <tr>\n",
              "      <th>Surname_tfidf_3</th>\n",
              "      <td>0.015383</td>\n",
              "    </tr>\n",
              "    <tr>\n",
              "      <th>Surname_tfidf_4</th>\n",
              "      <td>0.004054</td>\n",
              "    </tr>\n",
              "    <tr>\n",
              "      <th>France</th>\n",
              "      <td>0.566909</td>\n",
              "    </tr>\n",
              "    <tr>\n",
              "      <th>Germany</th>\n",
              "      <td>0.212046</td>\n",
              "    </tr>\n",
              "    <tr>\n",
              "      <th>Spain</th>\n",
              "      <td>0.221045</td>\n",
              "    </tr>\n",
              "    <tr>\n",
              "      <th>Female</th>\n",
              "      <td>0.436644</td>\n",
              "    </tr>\n",
              "    <tr>\n",
              "      <th>Male</th>\n",
              "      <td>0.563356</td>\n",
              "    </tr>\n",
              "    <tr>\n",
              "      <th>Mem__no__Products</th>\n",
              "      <td>0.784989</td>\n",
              "    </tr>\n",
              "    <tr>\n",
              "      <th>Cred_Bal_Sal</th>\n",
              "      <td>1444.363151</td>\n",
              "    </tr>\n",
              "    <tr>\n",
              "      <th>Bal_sal</th>\n",
              "      <td>2.202494</td>\n",
              "    </tr>\n",
              "    <tr>\n",
              "      <th>Tenure_Age</th>\n",
              "      <td>0.138587</td>\n",
              "    </tr>\n",
              "    <tr>\n",
              "      <th>Age_Tenure_product</th>\n",
              "      <td>191.346929</td>\n",
              "    </tr>\n",
              "  </tbody>\n",
              "</table>\n",
              "</div><br><label><b>dtype:</b> float64</label>"
            ]
          },
          "metadata": {},
          "execution_count": 7
        }
      ],
      "source": [
        "middles = df.mean()\n",
        "middles"
      ]
    },
    {
      "cell_type": "markdown",
      "metadata": {
        "id": "XlYtGkzkP5rF"
      },
      "source": [
        "Стандартное отклонение по столбцам:"
      ]
    },
    {
      "cell_type": "code",
      "execution_count": 8,
      "metadata": {
        "colab": {
          "base_uri": "https://localhost:8080/",
          "height": 868
        },
        "id": "gXRda5beP5At",
        "outputId": "ab8a2f92-5173-483f-be7c-9a851a647047"
      },
      "outputs": [
        {
          "output_type": "execute_result",
          "data": {
            "text/plain": [
              "Surname                 813.852174\n",
              "CreditScore              81.148273\n",
              "Age                       8.969565\n",
              "Tenure                    2.811155\n",
              "Balance               62982.418525\n",
              "NumOfProducts             0.549212\n",
              "HasCrCard                 0.432329\n",
              "IsActiveMember            0.500000\n",
              "EstimatedSalary       50815.118428\n",
              "Exited                    0.408125\n",
              "Surname_tfidf_0           0.132686\n",
              "Surname_tfidf_1           0.118039\n",
              "Surname_tfidf_2           0.118312\n",
              "Surname_tfidf_3           0.106961\n",
              "Surname_tfidf_4           0.103684\n",
              "France                    0.495504\n",
              "Germany                   0.408758\n",
              "Spain                     0.414952\n",
              "Female                    0.495971\n",
              "Male                      0.495971\n",
              "Mem__no__Products         0.871599\n",
              "Cred_Bal_Sal          60972.384543\n",
              "Bal_sal                  92.679435\n",
              "Tenure_Age                0.085465\n",
              "Age_Tenure_product      118.745788\n",
              "dtype: float64"
            ],
            "text/html": [
              "<div>\n",
              "<style scoped>\n",
              "    .dataframe tbody tr th:only-of-type {\n",
              "        vertical-align: middle;\n",
              "    }\n",
              "\n",
              "    .dataframe tbody tr th {\n",
              "        vertical-align: top;\n",
              "    }\n",
              "\n",
              "    .dataframe thead th {\n",
              "        text-align: right;\n",
              "    }\n",
              "</style>\n",
              "<table border=\"1\" class=\"dataframe\">\n",
              "  <thead>\n",
              "    <tr style=\"text-align: right;\">\n",
              "      <th></th>\n",
              "      <th>0</th>\n",
              "    </tr>\n",
              "  </thead>\n",
              "  <tbody>\n",
              "    <tr>\n",
              "      <th>Surname</th>\n",
              "      <td>813.852174</td>\n",
              "    </tr>\n",
              "    <tr>\n",
              "      <th>CreditScore</th>\n",
              "      <td>81.148273</td>\n",
              "    </tr>\n",
              "    <tr>\n",
              "      <th>Age</th>\n",
              "      <td>8.969565</td>\n",
              "    </tr>\n",
              "    <tr>\n",
              "      <th>Tenure</th>\n",
              "      <td>2.811155</td>\n",
              "    </tr>\n",
              "    <tr>\n",
              "      <th>Balance</th>\n",
              "      <td>62982.418525</td>\n",
              "    </tr>\n",
              "    <tr>\n",
              "      <th>NumOfProducts</th>\n",
              "      <td>0.549212</td>\n",
              "    </tr>\n",
              "    <tr>\n",
              "      <th>HasCrCard</th>\n",
              "      <td>0.432329</td>\n",
              "    </tr>\n",
              "    <tr>\n",
              "      <th>IsActiveMember</th>\n",
              "      <td>0.500000</td>\n",
              "    </tr>\n",
              "    <tr>\n",
              "      <th>EstimatedSalary</th>\n",
              "      <td>50815.118428</td>\n",
              "    </tr>\n",
              "    <tr>\n",
              "      <th>Exited</th>\n",
              "      <td>0.408125</td>\n",
              "    </tr>\n",
              "    <tr>\n",
              "      <th>Surname_tfidf_0</th>\n",
              "      <td>0.132686</td>\n",
              "    </tr>\n",
              "    <tr>\n",
              "      <th>Surname_tfidf_1</th>\n",
              "      <td>0.118039</td>\n",
              "    </tr>\n",
              "    <tr>\n",
              "      <th>Surname_tfidf_2</th>\n",
              "      <td>0.118312</td>\n",
              "    </tr>\n",
              "    <tr>\n",
              "      <th>Surname_tfidf_3</th>\n",
              "      <td>0.106961</td>\n",
              "    </tr>\n",
              "    <tr>\n",
              "      <th>Surname_tfidf_4</th>\n",
              "      <td>0.103684</td>\n",
              "    </tr>\n",
              "    <tr>\n",
              "      <th>France</th>\n",
              "      <td>0.495504</td>\n",
              "    </tr>\n",
              "    <tr>\n",
              "      <th>Germany</th>\n",
              "      <td>0.408758</td>\n",
              "    </tr>\n",
              "    <tr>\n",
              "      <th>Spain</th>\n",
              "      <td>0.414952</td>\n",
              "    </tr>\n",
              "    <tr>\n",
              "      <th>Female</th>\n",
              "      <td>0.495971</td>\n",
              "    </tr>\n",
              "    <tr>\n",
              "      <th>Male</th>\n",
              "      <td>0.495971</td>\n",
              "    </tr>\n",
              "    <tr>\n",
              "      <th>Mem__no__Products</th>\n",
              "      <td>0.871599</td>\n",
              "    </tr>\n",
              "    <tr>\n",
              "      <th>Cred_Bal_Sal</th>\n",
              "      <td>60972.384543</td>\n",
              "    </tr>\n",
              "    <tr>\n",
              "      <th>Bal_sal</th>\n",
              "      <td>92.679435</td>\n",
              "    </tr>\n",
              "    <tr>\n",
              "      <th>Tenure_Age</th>\n",
              "      <td>0.085465</td>\n",
              "    </tr>\n",
              "    <tr>\n",
              "      <th>Age_Tenure_product</th>\n",
              "      <td>118.745788</td>\n",
              "    </tr>\n",
              "  </tbody>\n",
              "</table>\n",
              "</div><br><label><b>dtype:</b> float64</label>"
            ]
          },
          "metadata": {},
          "execution_count": 8
        }
      ],
      "source": [
        "sigmas = df.std()\n",
        "sigmas"
      ]
    },
    {
      "cell_type": "markdown",
      "metadata": {
        "id": "P5ejgFCFM1-n"
      },
      "source": [
        "# Проверим данные на выбросы"
      ]
    },
    {
      "cell_type": "markdown",
      "metadata": {
        "id": "sn40HG5JQ8A6"
      },
      "source": [
        "Функция подсчета выбросов"
      ]
    },
    {
      "cell_type": "code",
      "execution_count": 9,
      "metadata": {
        "id": "a72bp0SOQ7ap"
      },
      "outputs": [],
      "source": [
        "def outliers_indices(feature):\n",
        "    '''\n",
        "    Будем считать выбросами все точки, выходящие за пределы трёх сигм.\n",
        "    '''\n",
        "\n",
        "    return df[(df[feature] < middles[feature] - 3*sigmas[feature]) | (df[feature] > middles[feature] + 3*sigmas[feature])].index"
      ]
    },
    {
      "cell_type": "markdown",
      "metadata": {
        "id": "uoV1iMbhPkE7"
      },
      "source": [
        "### Кредитный рейтинг"
      ]
    },
    {
      "cell_type": "code",
      "execution_count": 10,
      "metadata": {
        "colab": {
          "base_uri": "https://localhost:8080/",
          "height": 411
        },
        "id": "J7k-Jq_9kxR5",
        "outputId": "b103cc5b-f4a6-4a2e-c703-917f4111d3f0"
      },
      "outputs": [
        {
          "output_type": "display_data",
          "data": {
            "text/plain": [
              "<Figure size 640x480 with 1 Axes>"
            ],
            "image/png": "[encoded data removed]"
          },
          "metadata": {}
        }
      ],
      "source": [
        "sns.boxplot(df['CreditScore']);"
      ]
    },
    {
      "cell_type": "markdown",
      "metadata": {
        "id": "a4HIRjCYRyfX"
      },
      "source": [
        "Выбросы есть, получим индексы этих строк:"
      ]
    },
    {
      "cell_type": "code",
      "execution_count": 11,
      "metadata": {
        "colab": {
          "base_uri": "https://localhost:8080/"
        },
        "id": "Wj0T9FJIR6Hf",
        "outputId": "48990040-98ef-4dd3-d978-35d1e0b05ab9"
      },
      "outputs": [
        {
          "output_type": "stream",
          "name": "stdout",
          "text": [
            "149\n"
          ]
        }
      ],
      "source": [
        "indexes_wrong_CreditScore = outliers_indices(\"CreditScore\")\n",
        "print(len(indexes_wrong_CreditScore));"
      ]
    },
    {
      "cell_type": "code",
      "execution_count": 12,
      "metadata": {
        "colab": {
          "base_uri": "https://localhost:8080/",
          "height": 411
        },
        "id": "KhJnaWgolYzD",
        "outputId": "cdda8b8a-c81a-4570-b002-4c4fac7aaa1b"
      },
      "outputs": [
        {
          "output_type": "display_data",
          "data": {
            "text/plain": [
              "<Figure size 640x480 with 1 Axes>"
            ],
            "image/png": "[encoded data removed]"
          },
          "metadata": {}
        }
      ],
      "source": [
        "sns.boxplot(df['Balance']);"
      ]
    },
    {
      "cell_type": "code",
      "execution_count": 13,
      "metadata": {
        "colab": {
          "base_uri": "https://localhost:8080/",
          "height": 411
        },
        "id": "n1I2Kb-aORh3",
        "outputId": "d75f4116-5465-4afb-d737-62d43da5eb2c"
      },
      "outputs": [
        {
          "output_type": "display_data",
          "data": {
            "text/plain": [
              "<Figure size 640x480 with 1 Axes>"
            ],
            "image/png": "[encoded data removed]"
          },
          "metadata": {}
        }
      ],
      "source": [
        "sns.boxplot(df['Tenure']);"
      ]
    },
    {
      "cell_type": "markdown",
      "metadata": {
        "id": "WOXtyBsFPT2b"
      },
      "source": [
        "### Возраст"
      ]
    },
    {
      "cell_type": "code",
      "execution_count": 14,
      "metadata": {
        "colab": {
          "base_uri": "https://localhost:8080/",
          "height": 411
        },
        "id": "mv_XD4_lOcPg",
        "outputId": "72c440e2-7a8e-4841-d3ab-fef38eca79af"
      },
      "outputs": [
        {
          "output_type": "display_data",
          "data": {
            "text/plain": [
              "<Figure size 640x480 with 1 Axes>"
            ],
            "image/png": "[encoded data removed]"
          },
          "metadata": {}
        }
      ],
      "source": [
        "sns.boxplot(df['Age']);"
      ]
    },
    {
      "cell_type": "markdown",
      "metadata": {
        "id": "-BoFW3IePCGa"
      },
      "source": [
        "Судя по ящику с усами есть выбросы. Посмотрим возраст самых взрослых клиентов:"
      ]
    },
    {
      "cell_type": "markdown",
      "metadata": {
        "id": "0gt0mMdHTJRS"
      },
      "source": [
        "Минимальный возраст клиента:"
      ]
    },
    {
      "cell_type": "code",
      "execution_count": 15,
      "metadata": {
        "colab": {
          "base_uri": "https://localhost:8080/"
        },
        "id": "934faRlwTIx_",
        "outputId": "aefc0639-d229-4300-ae1c-02c3c0170ae4"
      },
      "outputs": [
        {
          "output_type": "execute_result",
          "data": {
            "text/plain": [
              "18.0"
            ]
          },
          "metadata": {},
          "execution_count": 15
        }
      ],
      "source": [
        "np.min(df['Age'])"
      ]
    },
    {
      "cell_type": "code",
      "execution_count": 16,
      "metadata": {
        "colab": {
          "base_uri": "https://localhost:8080/"
        },
        "id": "1uiTJ7qPOp4P",
        "outputId": "c418d3e0-7580-4650-8fc0-122b196d68cb"
      },
      "outputs": [
        {
          "output_type": "stream",
          "name": "stdout",
          "text": [
            "17173     92.0\n",
            "43508     92.0\n",
            "59479     92.0\n",
            "62569     92.0\n",
            "74699     92.0\n",
            "116359    92.0\n",
            "121560    92.0\n",
            "136841    92.0\n",
            "162163    92.0\n",
            "163138    92.0\n",
            "164009    92.0\n",
            "167488    88.0\n",
            "171473    92.0\n",
            "171789    92.0\n",
            "Name: Age, dtype: float64\n"
          ]
        }
      ],
      "source": [
        "print(df[df['Age'] > 85]['Age'])"
      ]
    },
    {
      "cell_type": "markdown",
      "metadata": {
        "id": "R0oiVoeQPMpm"
      },
      "source": [
        "Буду считать, что в банке могут быть клиенты старше 90 лет. Логически, такое возможно."
      ]
    },
    {
      "cell_type": "markdown",
      "metadata": {
        "id": "7GuJQQ3VThet"
      },
      "source": [
        "### Количество продуктов банка"
      ]
    },
    {
      "cell_type": "code",
      "execution_count": 17,
      "metadata": {
        "colab": {
          "base_uri": "https://localhost:8080/",
          "height": 411
        },
        "id": "Pn2hg16CPSYb",
        "outputId": "46f5b6ea-43fe-421a-ecf8-609fae5e241b"
      },
      "outputs": [
        {
          "output_type": "display_data",
          "data": {
            "text/plain": [
              "<Figure size 640x480 with 1 Axes>"
            ],
            "image/png": "[encoded data removed]"
          },
          "metadata": {}
        }
      ],
      "source": [
        "sns.boxplot(df['NumOfProducts']);"
      ]
    },
    {
      "cell_type": "code",
      "execution_count": 18,
      "metadata": {
        "colab": {
          "base_uri": "https://localhost:8080/"
        },
        "id": "xELzkceQT9z8",
        "outputId": "449dd3f3-872a-4389-8067-3b180ffb3b67"
      },
      "outputs": [
        {
          "output_type": "stream",
          "name": "stdout",
          "text": [
            "182       4.0\n",
            "223       4.0\n",
            "1030      4.0\n",
            "1257      4.0\n",
            "1590      4.0\n",
            "         ... \n",
            "174353    4.0\n",
            "174400    4.0\n",
            "174441    4.0\n",
            "174570    4.0\n",
            "174595    4.0\n",
            "Name: NumOfProducts, Length: 535, dtype: float64\n"
          ]
        }
      ],
      "source": [
        "print(df[df['NumOfProducts'] >= 4]['NumOfProducts'])"
      ]
    },
    {
      "cell_type": "markdown",
      "metadata": {
        "id": "jDmqWSPLUU4x"
      },
      "source": [
        "535 человек имеют 4 продукта в банке(т. е. кредитки, дебетовые карты, вклады и т. д.). Хотя по диаграмме видно сильное отклонение от среднего, всё же это нельзя назвать полноценным выбросом, так как вполне возможно, что есть люди у которых есть кредиты и несколько вкладов."
      ]
    },
    {
      "cell_type": "markdown",
      "metadata": {
        "id": "7gGr1lo7VEKO"
      },
      "source": [
        "### Предполагаемые доходы"
      ]
    },
    {
      "cell_type": "code",
      "execution_count": 19,
      "metadata": {
        "colab": {
          "base_uri": "https://localhost:8080/",
          "height": 411
        },
        "id": "cICBiXVNVCqB",
        "outputId": "f8945915-b0c6-4ee9-a988-5210c3add7a2"
      },
      "outputs": [
        {
          "output_type": "display_data",
          "data": {
            "text/plain": [
              "<Figure size 640x480 with 1 Axes>"
            ],
            "image/png": "[encoded data removed]"
          },
          "metadata": {}
        }
      ],
      "source": [
        "sns.boxplot(df['EstimatedSalary']);"
      ]
    },
    {
      "cell_type": "markdown",
      "metadata": {
        "id": "B5dU1JfUVjWo"
      },
      "source": [
        "### Метрика Mem__no__Products: NumOfProducts * IsActiveMember"
      ]
    },
    {
      "cell_type": "code",
      "execution_count": 20,
      "metadata": {
        "colab": {
          "base_uri": "https://localhost:8080/",
          "height": 411
        },
        "id": "7-VV4opcV2dJ",
        "outputId": "2ec73e28-8238-4ae0-da63-994dac84c270"
      },
      "outputs": [
        {
          "output_type": "display_data",
          "data": {
            "text/plain": [
              "<Figure size 640x480 with 1 Axes>"
            ],
            "image/png": "[encoded data removed]"
          },
          "metadata": {}
        }
      ],
      "source": [
        "sns.boxplot(df['Mem__no__Products']);"
      ]
    },
    {
      "cell_type": "markdown",
      "metadata": {
        "id": "3R5vQqN_WF0j"
      },
      "source": [
        "### Метрика Cred_Bal_Sal: (Credit Score * Balance) / EstimatedSalary"
      ]
    },
    {
      "cell_type": "code",
      "execution_count": 21,
      "metadata": {
        "colab": {
          "base_uri": "https://localhost:8080/",
          "height": 426
        },
        "id": "IzPs-dKHWMEW",
        "outputId": "e5b64aae-b86a-4971-c8d4-3937eea87f4f"
      },
      "outputs": [
        {
          "output_type": "display_data",
          "data": {
            "text/plain": [
              "<Figure size 640x480 with 1 Axes>"
            ],
            "image/png": "[encoded data removed]"
          },
          "metadata": {}
        }
      ],
      "source": [
        "sns.boxplot(df['Cred_Bal_Sal']);"
      ]
    },
    {
      "cell_type": "code",
      "execution_count": 22,
      "metadata": {
        "colab": {
          "base_uri": "https://localhost:8080/"
        },
        "id": "LmBFV5xuWtGt",
        "outputId": "b8ff06be-ca34-4043-e666-59feffaa743d"
      },
      "outputs": [
        {
          "output_type": "stream",
          "name": "stdout",
          "text": [
            "60\n"
          ]
        }
      ],
      "source": [
        "wrong_Cred_Bal_Sal = outliers_indices('Cred_Bal_Sal')\n",
        "\n",
        "print(len(df.iloc[wrong_Cred_Bal_Sal]))"
      ]
    },
    {
      "cell_type": "markdown",
      "metadata": {
        "id": "Ok2W23jEYYKb"
      },
      "source": [
        "### Метрика Bal_sal: Balance / EstimatedSalary"
      ]
    },
    {
      "cell_type": "code",
      "execution_count": 23,
      "metadata": {
        "colab": {
          "base_uri": "https://localhost:8080/",
          "height": 411
        },
        "id": "QbMYjhcaYhaF",
        "outputId": "ea684cdc-b432-48e0-ce95-3c5dbb1d404c"
      },
      "outputs": [
        {
          "output_type": "display_data",
          "data": {
            "text/plain": [
              "<Figure size 640x480 with 1 Axes>"
            ],
            "image/png": "[encoded data removed]"
          },
          "metadata": {}
        }
      ],
      "source": [
        "sns.boxplot(df['Bal_sal']);"
      ]
    },
    {
      "cell_type": "code",
      "execution_count": 24,
      "metadata": {
        "colab": {
          "base_uri": "https://localhost:8080/"
        },
        "id": "vkeqRBvzYn6D",
        "outputId": "1d19c565-7241-41c3-99c0-001164ddb332"
      },
      "outputs": [
        {
          "output_type": "stream",
          "name": "stdout",
          "text": [
            "60\n"
          ]
        }
      ],
      "source": [
        "wrong_Bal_Sal = outliers_indices('Cred_Bal_Sal')\n",
        "\n",
        "print(len(df.iloc[wrong_Cred_Bal_Sal]))"
      ]
    },
    {
      "cell_type": "markdown",
      "metadata": {
        "id": "8RM3GY7BYs_7"
      },
      "source": [
        "### Метрика Tenure_Age: Tenure / Age"
      ]
    },
    {
      "cell_type": "code",
      "execution_count": 25,
      "metadata": {
        "colab": {
          "base_uri": "https://localhost:8080/",
          "height": 411
        },
        "id": "DphrnQbcY0lu",
        "outputId": "5ce87e50-390d-452f-f931-82374a6f0284"
      },
      "outputs": [
        {
          "output_type": "display_data",
          "data": {
            "text/plain": [
              "<Figure size 640x480 with 1 Axes>"
            ],
            "image/png": "[encoded data removed]"
          },
          "metadata": {}
        }
      ],
      "source": [
        "sns.boxplot(df['Tenure_Age']);"
      ]
    },
    {
      "cell_type": "code",
      "execution_count": 26,
      "metadata": {
        "colab": {
          "base_uri": "https://localhost:8080/",
          "height": 443
        },
        "id": "6rnUVFbGZFl0",
        "outputId": "3df2bdb0-f031-4ce3-c266-9e0a8e898ed9"
      },
      "outputs": [
        {
          "output_type": "execute_result",
          "data": {
            "text/plain": [
              "        Surname  CreditScore   Age  Tenure    Balance  NumOfProducts  \\\n",
              "47         1335        685.0  31.0    10.0  122449.31            2.0   \n",
              "73         2415        721.0  30.0     9.0       0.00            2.0   \n",
              "85         1081        622.0  29.0     9.0       0.00            2.0   \n",
              "87         1262        775.0  20.0     6.0  109026.60            1.0   \n",
              "95         2389        588.0  30.0    10.0  126683.40            1.0   \n",
              "...         ...          ...   ...     ...        ...            ...   \n",
              "174917     1673        684.0  24.0     8.0  143582.89            1.0   \n",
              "174918     2539        637.0  21.0    10.0  125712.20            1.0   \n",
              "174937     1756        481.0  28.0    10.0       0.00            2.0   \n",
              "174962      899        677.0  18.0     8.0  134796.87            2.0   \n",
              "174970      230        748.0  20.0     7.0       0.00            2.0   \n",
              "\n",
              "        HasCrCard  IsActiveMember  EstimatedSalary  Exited  ...  France  \\\n",
              "47              1               1        180769.55       0  ...       0   \n",
              "73              1               1        177747.05       0  ...       0   \n",
              "85              1               1        155786.39       0  ...       1   \n",
              "87              1               1        120801.65       0  ...       1   \n",
              "95              1               1        131636.55       0  ...       0   \n",
              "...           ...             ...              ...     ...  ...     ...   \n",
              "174917          1               1         22527.27       0  ...       0   \n",
              "174918          0               0        175072.47       0  ...       1   \n",
              "174937          1               0        145215.96       0  ...       1   \n",
              "174962          1               1        114858.90       0  ...       0   \n",
              "174970          0               0         10792.42       0  ...       1   \n",
              "\n",
              "        Germany  Spain  Female  Male  Mem__no__Products  Cred_Bal_Sal  \\\n",
              "47            0      1       0     1                2.0    464.003906   \n",
              "73            0      1       0     1                2.0      0.000000   \n",
              "85            0      0       0     1                2.0      0.000000   \n",
              "87            0      0       1     0                1.0    699.457458   \n",
              "95            1      0       0     1                1.0    565.875049   \n",
              "...         ...    ...     ...   ...                ...           ...   \n",
              "174917        0      1       0     1                1.0   4359.635977   \n",
              "174918        0      0       1     0                0.0    457.402991   \n",
              "174937        0      0       1     0                0.0      0.000000   \n",
              "174962        0      1       0     1                2.0    794.518152   \n",
              "174970        0      0       1     0                0.0      0.000000   \n",
              "\n",
              "         Bal_sal  Tenure_Age  Age_Tenure_product  \n",
              "47      0.677378    0.322581               310.0  \n",
              "73      0.000000    0.300000               270.0  \n",
              "85      0.000000    0.310345               261.0  \n",
              "87      0.902526    0.300000               120.0  \n",
              "95      0.962373    0.333333               300.0  \n",
              "...          ...         ...                 ...  \n",
              "174917  6.373737    0.333333               192.0  \n",
              "174918  0.718058    0.476190               210.0  \n",
              "174937  0.000000    0.357143               280.0  \n",
              "174962  1.173587    0.444444               144.0  \n",
              "174970  0.000000    0.350000               140.0  \n",
              "\n",
              "[6653 rows x 25 columns]"
            ],
            "text/html": [
              "\n",
              "  <div id=\"df-26fcdde6-37cb-406e-ac0e-7424679ef23f\" class=\"colab-df-container\">\n",
              "    <div>\n",
              "<style scoped>\n",
              "    .dataframe tbody tr th:only-of-type {\n",
              "        vertical-align: middle;\n",
              "    }\n",
              "\n",
              "    .dataframe tbody tr th {\n",
              "        vertical-align: top;\n",
              "    }\n",
              "\n",
              "    .dataframe thead th {\n",
              "        text-align: right;\n",
              "    }\n",
              "</style>\n",
              "<table border=\"1\" class=\"dataframe\">\n",
              "  <thead>\n",
              "    <tr style=\"text-align: right;\">\n",
              "      <th></th>\n",
              "      <th>Surname</th>\n",
              "      <th>CreditScore</th>\n",
              "      <th>Age</th>\n",
              "      <th>Tenure</th>\n",
              "      <th>Balance</th>\n",
              "      <th>NumOfProducts</th>\n",
              "      <th>HasCrCard</th>\n",
              "      <th>IsActiveMember</th>\n",
              "      <th>EstimatedSalary</th>\n",
              "      <th>Exited</th>\n",
              "      <th>...</th>\n",
              "      <th>France</th>\n",
              "      <th>Germany</th>\n",
              "      <th>Spain</th>\n",
              "      <th>Female</th>\n",
              "      <th>Male</th>\n",
              "      <th>Mem__no__Products</th>\n",
              "      <th>Cred_Bal_Sal</th>\n",
              "      <th>Bal_sal</th>\n",
              "      <th>Tenure_Age</th>\n",
              "      <th>Age_Tenure_product</th>\n",
              "    </tr>\n",
              "  </thead>\n",
              "  <tbody>\n",
              "    <tr>\n",
              "      <th>47</th>\n",
              "      <td>1335</td>\n",
              "      <td>685.0</td>\n",
              "      <td>31.0</td>\n",
              "      <td>10.0</td>\n",
              "      <td>122449.31</td>\n",
              "      <td>2.0</td>\n",
              "      <td>1</td>\n",
              "      <td>1</td>\n",
              "      <td>180769.55</td>\n",
              "      <td>0</td>\n",
              "      <td>...</td>\n",
              "      <td>0</td>\n",
              "      <td>0</td>\n",
              "      <td>1</td>\n",
              "      <td>0</td>\n",
              "      <td>1</td>\n",
              "      <td>2.0</td>\n",
              "      <td>464.003906</td>\n",
              "      <td>0.677378</td>\n",
              "      <td>0.322581</td>\n",
              "      <td>310.0</td>\n",
              "    </tr>\n",
              "    <tr>\n",
              "      <th>73</th>\n",
              "      <td>2415</td>\n",
              "      <td>721.0</td>\n",
              "      <td>30.0</td>\n",
              "      <td>9.0</td>\n",
              "      <td>0.00</td>\n",
              "      <td>2.0</td>\n",
              "      <td>1</td>\n",
              "      <td>1</td>\n",
              "      <td>177747.05</td>\n",
              "      <td>0</td>\n",
              "      <td>...</td>\n",
              "      <td>0</td>\n",
              "      <td>0</td>\n",
              "      <td>1</td>\n",
              "      <td>0</td>\n",
              "      <td>1</td>\n",
              "      <td>2.0</td>\n",
              "      <td>0.000000</td>\n",
              "      <td>0.000000</td>\n",
              "      <td>0.300000</td>\n",
              "      <td>270.0</td>\n",
              "    </tr>\n",
              "    <tr>\n",
              "      <th>85</th>\n",
              "      <td>1081</td>\n",
              "      <td>622.0</td>\n",
              "      <td>29.0</td>\n",
              "      <td>9.0</td>\n",
              "      <td>0.00</td>\n",
              "      <td>2.0</td>\n",
              "      <td>1</td>\n",
              "      <td>1</td>\n",
              "      <td>155786.39</td>\n",
              "      <td>0</td>\n",
              "      <td>...</td>\n",
              "      <td>1</td>\n",
              "      <td>0</td>\n",
              "      <td>0</td>\n",
              "      <td>0</td>\n",
              "      <td>1</td>\n",
              "      <td>2.0</td>\n",
              "      <td>0.000000</td>\n",
              "      <td>0.000000</td>\n",
              "      <td>0.310345</td>\n",
              "      <td>261.0</td>\n",
              "    </tr>\n",
              "    <tr>\n",
              "      <th>87</th>\n",
              "      <td>1262</td>\n",
              "      <td>775.0</td>\n",
              "      <td>20.0</td>\n",
              "      <td>6.0</td>\n",
              "      <td>109026.60</td>\n",
              "      <td>1.0</td>\n",
              "      <td>1</td>\n",
              "      <td>1</td>\n",
              "      <td>120801.65</td>\n",
              "      <td>0</td>\n",
              "      <td>...</td>\n",
              "      <td>1</td>\n",
              "      <td>0</td>\n",
              "      <td>0</td>\n",
              "      <td>1</td>\n",
              "      <td>0</td>\n",
              "      <td>1.0</td>\n",
              "      <td>699.457458</td>\n",
              "      <td>0.902526</td>\n",
              "      <td>0.300000</td>\n",
              "      <td>120.0</td>\n",
              "    </tr>\n",
              "    <tr>\n",
              "      <th>95</th>\n",
              "      <td>2389</td>\n",
              "      <td>588.0</td>\n",
              "      <td>30.0</td>\n",
              "      <td>10.0</td>\n",
              "      <td>126683.40</td>\n",
              "      <td>1.0</td>\n",
              "      <td>1</td>\n",
              "      <td>1</td>\n",
              "      <td>131636.55</td>\n",
              "      <td>0</td>\n",
              "      <td>...</td>\n",
              "      <td>0</td>\n",
              "      <td>1</td>\n",
              "      <td>0</td>\n",
              "      <td>0</td>\n",
              "      <td>1</td>\n",
              "      <td>1.0</td>\n",
              "      <td>565.875049</td>\n",
              "      <td>0.962373</td>\n",
              "      <td>0.333333</td>\n",
              "      <td>300.0</td>\n",
              "    </tr>\n",
              "    <tr>\n",
              "      <th>...</th>\n",
              "      <td>...</td>\n",
              "      <td>...</td>\n",
              "      <td>...</td>\n",
              "      <td>...</td>\n",
              "      <td>...</td>\n",
              "      <td>...</td>\n",
              "      <td>...</td>\n",
              "      <td>...</td>\n",
              "      <td>...</td>\n",
              "      <td>...</td>\n",
              "      <td>...</td>\n",
              "      <td>...</td>\n",
              "      <td>...</td>\n",
              "      <td>...</td>\n",
              "      <td>...</td>\n",
              "      <td>...</td>\n",
              "      <td>...</td>\n",
              "      <td>...</td>\n",
              "      <td>...</td>\n",
              "      <td>...</td>\n",
              "      <td>...</td>\n",
              "    </tr>\n",
              "    <tr>\n",
              "      <th>174917</th>\n",
              "      <td>1673</td>\n",
              "      <td>684.0</td>\n",
              "      <td>24.0</td>\n",
              "      <td>8.0</td>\n",
              "      <td>143582.89</td>\n",
              "      <td>1.0</td>\n",
              "      <td>1</td>\n",
              "      <td>1</td>\n",
              "      <td>22527.27</td>\n",
              "      <td>0</td>\n",
              "      <td>...</td>\n",
              "      <td>0</td>\n",
              "      <td>0</td>\n",
              "      <td>1</td>\n",
              "      <td>0</td>\n",
              "      <td>1</td>\n",
              "      <td>1.0</td>\n",
              "      <td>4359.635977</td>\n",
              "      <td>6.373737</td>\n",
              "      <td>0.333333</td>\n",
              "      <td>192.0</td>\n",
              "    </tr>\n",
              "    <tr>\n",
              "      <th>174918</th>\n",
              "      <td>2539</td>\n",
              "      <td>637.0</td>\n",
              "      <td>21.0</td>\n",
              "      <td>10.0</td>\n",
              "      <td>125712.20</td>\n",
              "      <td>1.0</td>\n",
              "      <td>0</td>\n",
              "      <td>0</td>\n",
              "      <td>175072.47</td>\n",
              "      <td>0</td>\n",
              "      <td>...</td>\n",
              "      <td>1</td>\n",
              "      <td>0</td>\n",
              "      <td>0</td>\n",
              "      <td>1</td>\n",
              "      <td>0</td>\n",
              "      <td>0.0</td>\n",
              "      <td>457.402991</td>\n",
              "      <td>0.718058</td>\n",
              "      <td>0.476190</td>\n",
              "      <td>210.0</td>\n",
              "    </tr>\n",
              "    <tr>\n",
              "      <th>174937</th>\n",
              "      <td>1756</td>\n",
              "      <td>481.0</td>\n",
              "      <td>28.0</td>\n",
              "      <td>10.0</td>\n",
              "      <td>0.00</td>\n",
              "      <td>2.0</td>\n",
              "      <td>1</td>\n",
              "      <td>0</td>\n",
              "      <td>145215.96</td>\n",
              "      <td>0</td>\n",
              "      <td>...</td>\n",
              "      <td>1</td>\n",
              "      <td>0</td>\n",
              "      <td>0</td>\n",
              "      <td>1</td>\n",
              "      <td>0</td>\n",
              "      <td>0.0</td>\n",
              "      <td>0.000000</td>\n",
              "      <td>0.000000</td>\n",
              "      <td>0.357143</td>\n",
              "      <td>280.0</td>\n",
              "    </tr>\n",
              "    <tr>\n",
              "      <th>174962</th>\n",
              "      <td>899</td>\n",
              "      <td>677.0</td>\n",
              "      <td>18.0</td>\n",
              "      <td>8.0</td>\n",
              "      <td>134796.87</td>\n",
              "      <td>2.0</td>\n",
              "      <td>1</td>\n",
              "      <td>1</td>\n",
              "      <td>114858.90</td>\n",
              "      <td>0</td>\n",
              "      <td>...</td>\n",
              "      <td>0</td>\n",
              "      <td>0</td>\n",
              "      <td>1</td>\n",
              "      <td>0</td>\n",
              "      <td>1</td>\n",
              "      <td>2.0</td>\n",
              "      <td>794.518152</td>\n",
              "      <td>1.173587</td>\n",
              "      <td>0.444444</td>\n",
              "      <td>144.0</td>\n",
              "    </tr>\n",
              "    <tr>\n",
              "      <th>174970</th>\n",
              "      <td>230</td>\n",
              "      <td>748.0</td>\n",
              "      <td>20.0</td>\n",
              "      <td>7.0</td>\n",
              "      <td>0.00</td>\n",
              "      <td>2.0</td>\n",
              "      <td>0</td>\n",
              "      <td>0</td>\n",
              "      <td>10792.42</td>\n",
              "      <td>0</td>\n",
              "      <td>...</td>\n",
              "      <td>1</td>\n",
              "      <td>0</td>\n",
              "      <td>0</td>\n",
              "      <td>1</td>\n",
              "      <td>0</td>\n",
              "      <td>0.0</td>\n",
              "      <td>0.000000</td>\n",
              "      <td>0.000000</td>\n",
              "      <td>0.350000</td>\n",
              "      <td>140.0</td>\n",
              "    </tr>\n",
              "  </tbody>\n",
              "</table>\n",
              "<p>6653 rows × 25 columns</p>\n",
              "</div>\n",
              "    <div class=\"colab-df-buttons\">\n",
              "\n",
              "  <div class=\"colab-df-container\">\n",
              "    <button class=\"colab-df-convert\" onclick=\"convertToInteractive('df-26fcdde6-37cb-406e-ac0e-7424679ef23f')\"\n",
              "            title=\"Convert this dataframe to an interactive table.\"\n",
              "            style=\"display:none;\">\n",
              "\n",
              "  <svg xmlns=\"http://www.w3.org/2000/svg\" height=\"24px\" viewBox=\"0 -960 960 960\">\n",
              "    <path d=\"M120-120v-720h720v720H120Zm60-500h600v-160H180v160Zm220 220h160v-160H400v160Zm0 220h160v-160H400v160ZM180-400h160v-160H180v160Zm440 0h160v-160H620v160ZM180-180h160v-160H180v160Zm440 0h160v-160H620v160Z\"/>\n",
              "  </svg>\n",
              "    </button>\n",
              "\n",
              "  <style>\n",
              "    .colab-df-container {\n",
              "      display:flex;\n",
              "      gap: 12px;\n",
              "    }\n",
              "\n",
              "    .colab-df-convert {\n",
              "      background-color: #E8F0FE;\n",
              "      border: none;\n",
              "      border-radius: 50%;\n",
              "      cursor: pointer;\n",
              "      display: none;\n",
              "      fill: #1967D2;\n",
              "      height: 32px;\n",
              "      padding: 0 0 0 0;\n",
              "      width: 32px;\n",
              "    }\n",
              "\n",
              "    .colab-df-convert:hover {\n",
              "      background-color: #E2EBFA;\n",
              "      box-shadow: 0px 1px 2px rgba(60, 64, 67, 0.3), 0px 1px 3px 1px rgba(60, 64, 67, 0.15);\n",
              "      fill: #174EA6;\n",
              "    }\n",
              "\n",
              "    .colab-df-buttons div {\n",
              "      margin-bottom: 4px;\n",
              "    }\n",
              "\n",
              "    [theme=dark] .colab-df-convert {\n",
              "      background-color: #3B4455;\n",
              "      fill: #D2E3FC;\n",
              "    }\n",
              "\n",
              "    [theme=dark] .colab-df-convert:hover {\n",
              "      background-color: #434B5C;\n",
              "      box-shadow: 0px 1px 3px 1px rgba(0, 0, 0, 0.15);\n",
              "      filter: drop-shadow(0px 1px 2px rgba(0, 0, 0, 0.3));\n",
              "      fill: #FFFFFF;\n",
              "    }\n",
              "  </style>\n",
              "\n",
              "    <script>\n",
              "      const buttonEl =\n",
              "        document.querySelector('#df-26fcdde6-37cb-406e-ac0e-7424679ef23f button.colab-df-convert');\n",
              "      buttonEl.style.display =\n",
              "        google.colab.kernel.accessAllowed ? 'block' : 'none';\n",
              "\n",
              "      async function convertToInteractive(key) {\n",
              "        const element = document.querySelector('#df-26fcdde6-37cb-406e-ac0e-7424679ef23f');\n",
              "        const dataTable =\n",
              "          await google.colab.kernel.invokeFunction('convertToInteractive',\n",
              "                                                    [key], {});\n",
              "        if (!dataTable) return;\n",
              "\n",
              "        const docLinkHtml = 'Like what you see? Visit the ' +\n",
              "          '<a target=\"_blank\" href=https://colab.research.google.com/notebooks/data_table.ipynb>data table notebook</a>'\n",
              "          + ' to learn more about interactive tables.';\n",
              "        element.innerHTML = '';\n",
              "        dataTable['output_type'] = 'display_data';\n",
              "        await google.colab.output.renderOutput(dataTable, element);\n",
              "        const docLink = document.createElement('div');\n",
              "        docLink.innerHTML = docLinkHtml;\n",
              "        element.appendChild(docLink);\n",
              "      }\n",
              "    </script>\n",
              "  </div>\n",
              "\n",
              "\n",
              "<div id=\"df-4a7a14c9-30a9-491a-8e22-f4dd72bd3cf1\">\n",
              "  <button class=\"colab-df-quickchart\" onclick=\"quickchart('df-4a7a14c9-30a9-491a-8e22-f4dd72bd3cf1')\"\n",
              "            title=\"Suggest charts\"\n",
              "            style=\"display:none;\">\n",
              "\n",
              "<svg xmlns=\"http://www.w3.org/2000/svg\" height=\"24px\"viewBox=\"0 0 24 24\"\n",
              "     width=\"24px\">\n",
              "    <g>\n",
              "        <path d=\"M19 3H5c-1.1 0-2 .9-2 2v14c0 1.1.9 2 2 2h14c1.1 0 2-.9 2-2V5c0-1.1-.9-2-2-2zM9 17H7v-7h2v7zm4 0h-2V7h2v10zm4 0h-2v-4h2v4z\"/>\n",
              "    </g>\n",
              "</svg>\n",
              "  </button>\n",
              "\n",
              "<style>\n",
              "  .colab-df-quickchart {\n",
              "      --bg-color: #E8F0FE;\n",
              "      --fill-color: #1967D2;\n",
              "      --hover-bg-color: #E2EBFA;\n",
              "      --hover-fill-color: #174EA6;\n",
              "      --disabled-fill-color: #AAA;\n",
              "      --disabled-bg-color: #DDD;\n",
              "  }\n",
              "\n",
              "  [theme=dark] .colab-df-quickchart {\n",
              "      --bg-color: #3B4455;\n",
              "      --fill-color: #D2E3FC;\n",
              "      --hover-bg-color: #434B5C;\n",
              "      --hover-fill-color: #FFFFFF;\n",
              "      --disabled-bg-color: #3B4455;\n",
              "      --disabled-fill-color: #666;\n",
              "  }\n",
              "\n",
              "  .colab-df-quickchart {\n",
              "    background-color: var(--bg-color);\n",
              "    border: none;\n",
              "    border-radius: 50%;\n",
              "    cursor: pointer;\n",
              "    display: none;\n",
              "    fill: var(--fill-color);\n",
              "    height: 32px;\n",
              "    padding: 0;\n",
              "    width: 32px;\n",
              "  }\n",
              "\n",
              "  .colab-df-quickchart:hover {\n",
              "    background-color: var(--hover-bg-color);\n",
              "    box-shadow: 0 1px 2px rgba(60, 64, 67, 0.3), 0 1px 3px 1px rgba(60, 64, 67, 0.15);\n",
              "    fill: var(--button-hover-fill-color);\n",
              "  }\n",
              "\n",
              "  .colab-df-quickchart-complete:disabled,\n",
              "  .colab-df-quickchart-complete:disabled:hover {\n",
              "    background-color: var(--disabled-bg-color);\n",
              "    fill: var(--disabled-fill-color);\n",
              "    box-shadow: none;\n",
              "  }\n",
              "\n",
              "  .colab-df-spinner {\n",
              "    border: 2px solid var(--fill-color);\n",
              "    border-color: transparent;\n",
              "    border-bottom-color: var(--fill-color);\n",
              "    animation:\n",
              "      spin 1s steps(1) infinite;\n",
              "  }\n",
              "\n",
              "  @keyframes spin {\n",
              "    0% {\n",
              "      border-color: transparent;\n",
              "      border-bottom-color: var(--fill-color);\n",
              "      border-left-color: var(--fill-color);\n",
              "    }\n",
              "    20% {\n",
              "      border-color: transparent;\n",
              "      border-left-color: var(--fill-color);\n",
              "      border-top-color: var(--fill-color);\n",
              "    }\n",
              "    30% {\n",
              "      border-color: transparent;\n",
              "      border-left-color: var(--fill-color);\n",
              "      border-top-color: var(--fill-color);\n",
              "      border-right-color: var(--fill-color);\n",
              "    }\n",
              "    40% {\n",
              "      border-color: transparent;\n",
              "      border-right-color: var(--fill-color);\n",
              "      border-top-color: var(--fill-color);\n",
              "    }\n",
              "    60% {\n",
              "      border-color: transparent;\n",
              "      border-right-color: var(--fill-color);\n",
              "    }\n",
              "    80% {\n",
              "      border-color: transparent;\n",
              "      border-right-color: var(--fill-color);\n",
              "      border-bottom-color: var(--fill-color);\n",
              "    }\n",
              "    90% {\n",
              "      border-color: transparent;\n",
              "      border-bottom-color: var(--fill-color);\n",
              "    }\n",
              "  }\n",
              "</style>\n",
              "\n",
              "  <script>\n",
              "    async function quickchart(key) {\n",
              "      const quickchartButtonEl =\n",
              "        document.querySelector('#' + key + ' button');\n",
              "      quickchartButtonEl.disabled = true;  // To prevent multiple clicks.\n",
              "      quickchartButtonEl.classList.add('colab-df-spinner');\n",
              "      try {\n",
              "        const charts = await google.colab.kernel.invokeFunction(\n",
              "            'suggestCharts', [key], {});\n",
              "      } catch (error) {\n",
              "        console.error('Error during call to suggestCharts:', error);\n",
              "      }\n",
              "      quickchartButtonEl.classList.remove('colab-df-spinner');\n",
              "      quickchartButtonEl.classList.add('colab-df-quickchart-complete');\n",
              "    }\n",
              "    (() => {\n",
              "      let quickchartButtonEl =\n",
              "        document.querySelector('#df-4a7a14c9-30a9-491a-8e22-f4dd72bd3cf1 button');\n",
              "      quickchartButtonEl.style.display =\n",
              "        google.colab.kernel.accessAllowed ? 'block' : 'none';\n",
              "    })();\n",
              "  </script>\n",
              "</div>\n",
              "\n",
              "    </div>\n",
              "  </div>\n"
            ],
            "application/vnd.google.colaboratory.intrinsic+json": {
              "type": "dataframe"
            }
          },
          "metadata": {},
          "execution_count": 26
        }
      ],
      "source": [
        "wrong_Bal_Sal = outliers_indices('Tenure_Age')\n",
        "\n",
        "# df.iloc[wrong_Cred_Bal_Sal]\n",
        "df[df['Tenure_Age'] >= 0.3]"
      ]
    },
    {
      "cell_type": "markdown",
      "metadata": {
        "id": "AdttzN77aSHA"
      },
      "source": [
        "Невозможно, чтобы 21 летний клиент уже был клиентом банка 10 лет! Это точно выбросы"
      ]
    },
    {
      "cell_type": "markdown",
      "metadata": {
        "id": "MeeFDon4aZW8"
      },
      "source": [
        "### Метрика Age_Tenure_product: Age * Tenure"
      ]
    },
    {
      "cell_type": "code",
      "execution_count": 27,
      "metadata": {
        "colab": {
          "base_uri": "https://localhost:8080/",
          "height": 411
        },
        "id": "ZRSCaYgnak2K",
        "outputId": "a073f78f-3ff9-44da-a35b-940aec80df87"
      },
      "outputs": [
        {
          "output_type": "display_data",
          "data": {
            "text/plain": [
              "<Figure size 640x480 with 1 Axes>"
            ],
            "image/png": "[encoded data removed]"
          },
          "metadata": {}
        }
      ],
      "source": [
        "sns.boxplot(df['Age_Tenure_product']);"
      ]
    },
    {
      "cell_type": "code",
      "execution_count": 28,
      "metadata": {
        "colab": {
          "base_uri": "https://localhost:8080/"
        },
        "id": "zNjQBKXtaqPn",
        "outputId": "cd9a44d3-d1fc-4461-aac6-ae4d475ec24d"
      },
      "outputs": [
        {
          "output_type": "execute_result",
          "data": {
            "text/plain": [
              "936"
            ]
          },
          "metadata": {},
          "execution_count": 28
        }
      ],
      "source": [
        "wrong_Age_Tenure_product = outliers_indices('Age_Tenure_product')\n",
        "\n",
        "len(wrong_Age_Tenure_product)"
      ]
    },
    {
      "cell_type": "markdown",
      "metadata": {
        "id": "cqP-Mb5dbT0c"
      },
      "source": [
        "## Удаление найденных выбросов:"
      ]
    },
    {
      "cell_type": "code",
      "execution_count": 29,
      "metadata": {
        "colab": {
          "base_uri": "https://localhost:8080/"
        },
        "id": "DGRWo0CLbX8v",
        "outputId": "537bc82d-24c0-42a6-9f60-b36b40af7853"
      },
      "outputs": [
        {
          "output_type": "execute_result",
          "data": {
            "text/plain": [
              "1765"
            ]
          },
          "metadata": {},
          "execution_count": 29
        }
      ],
      "source": [
        "out = set(wrong_Age_Tenure_product) | set(wrong_Bal_Sal) | set(wrong_Cred_Bal_Sal) | set(indexes_wrong_CreditScore)\n",
        "\n",
        "len(out)"
      ]
    },
    {
      "cell_type": "markdown",
      "metadata": {
        "id": "2RchAvygbqqy"
      },
      "source": [
        "Всего будет удалено 1765 строки из 175028 строк. Это не будет влиять на общий размер выборки а также на решение задачи"
      ]
    },
    {
      "cell_type": "code",
      "execution_count": 30,
      "metadata": {
        "id": "kym9YGnPb7kb"
      },
      "outputs": [],
      "source": [
        "df.drop(out, inplace=True)"
      ]
    },
    {
      "cell_type": "markdown",
      "metadata": {
        "id": "ea2IURy1cEGm"
      },
      "source": [
        "# Построение матрицы корреляций"
      ]
    },
    {
      "cell_type": "markdown",
      "metadata": {
        "id": "_XKg9G4JcQJx"
      },
      "source": [
        "Выбор столбцов, являющихся числовыми характеристиками(не учитываем фамилии и категориальные признаки)"
      ]
    },
    {
      "cell_type": "code",
      "execution_count": 31,
      "metadata": {
        "id": "DigoJmkKcHJz"
      },
      "outputs": [],
      "source": [
        "numeric = ['CreditScore', 'Age', 'Tenure', 'Balance',\n",
        "           'EstimatedSalary', 'Mem__no__Products', 'Cred_Bal_Sal',\n",
        "           'Bal_sal', 'Tenure_Age', 'Age_Tenure_product']"
      ]
    },
    {
      "cell_type": "markdown",
      "metadata": {
        "id": "qKyQCYhjdyq8"
      },
      "source": [
        "Построение матрицы корреляций Спирмена:"
      ]
    },
    {
      "cell_type": "code",
      "execution_count": 32,
      "metadata": {
        "id": "qVQPzxkFd5EA"
      },
      "outputs": [],
      "source": [
        "# sns.pairplot(df[numeric]);"
      ]
    },
    {
      "cell_type": "markdown",
      "metadata": {
        "id": "lCcxMmFXhFMj"
      },
      "source": [
        "### Градиентная корреляционная матрица"
      ]
    },
    {
      "cell_type": "code",
      "execution_count": 33,
      "metadata": {
        "colab": {
          "base_uri": "https://localhost:8080/",
          "height": 383
        },
        "id": "gmpDoaeFifq-",
        "outputId": "f95433b7-5aff-4c0c-abfa-30fc0ea4f94a"
      },
      "outputs": [
        {
          "output_type": "execute_result",
          "data": {
            "text/plain": [
              "                    CreditScore       Age    Tenure   Balance  \\\n",
              "CreditScore            1.000000 -0.011745  0.000953  0.004826   \n",
              "Age                   -0.011745  1.000000 -0.013961  0.064918   \n",
              "Tenure                 0.000953 -0.013961  1.000000 -0.009417   \n",
              "Balance                0.004826  0.064918 -0.009417  1.000000   \n",
              "EstimatedSalary       -0.000039 -0.000522  0.002680  0.004535   \n",
              "Mem__no__Products      0.015581 -0.048731 -0.007459 -0.107373   \n",
              "Cred_Bal_Sal           0.056604  0.065141 -0.011112  0.923109   \n",
              "Bal_sal                0.005034  0.065663 -0.011078  0.925267   \n",
              "Tenure_Age             0.004206 -0.318850  0.937849 -0.029582   \n",
              "Age_Tenure_product    -0.002434  0.295562  0.935901  0.009692   \n",
              "\n",
              "                    EstimatedSalary  Mem__no__Products  Cred_Bal_Sal  \\\n",
              "CreditScore               -0.000039           0.015581      0.056604   \n",
              "Age                       -0.000522          -0.048731      0.065141   \n",
              "Tenure                     0.002680          -0.007459     -0.011112   \n",
              "Balance                    0.004535          -0.107373      0.923109   \n",
              "EstimatedSalary            1.000000          -0.007119     -0.203511   \n",
              "Mem__no__Products         -0.007119           1.000000     -0.103129   \n",
              "Cred_Bal_Sal              -0.203511          -0.103129      1.000000   \n",
              "Bal_sal                   -0.209367          -0.103887      0.996271   \n",
              "Tenure_Age                 0.003114           0.004786     -0.031280   \n",
              "Age_Tenure_product         0.001135          -0.016263      0.008460   \n",
              "\n",
              "                     Bal_sal  Tenure_Age  Age_Tenure_product  \n",
              "CreditScore         0.005034    0.004206           -0.002434  \n",
              "Age                 0.065663   -0.318850            0.295562  \n",
              "Tenure             -0.011078    0.937849            0.935901  \n",
              "Balance             0.925267   -0.029582            0.009692  \n",
              "EstimatedSalary    -0.209367    0.003114            0.001135  \n",
              "Mem__no__Products  -0.103887    0.004786           -0.016263  \n",
              "Cred_Bal_Sal        0.996271   -0.031280            0.008460  \n",
              "Bal_sal             1.000000   -0.031394            0.008642  \n",
              "Tenure_Age         -0.031394    1.000000            0.770198  \n",
              "Age_Tenure_product  0.008642    0.770198            1.000000  "
            ],
            "text/html": [
              "\n",
              "  <div id=\"df-468d7966-c364-4846-99c1-4758e035a391\" class=\"colab-df-container\">\n",
              "    <div>\n",
              "<style scoped>\n",
              "    .dataframe tbody tr th:only-of-type {\n",
              "        vertical-align: middle;\n",
              "    }\n",
              "\n",
              "    .dataframe tbody tr th {\n",
              "        vertical-align: top;\n",
              "    }\n",
              "\n",
              "    .dataframe thead th {\n",
              "        text-align: right;\n",
              "    }\n",
              "</style>\n",
              "<table border=\"1\" class=\"dataframe\">\n",
              "  <thead>\n",
              "    <tr style=\"text-align: right;\">\n",
              "      <th></th>\n",
              "      <th>CreditScore</th>\n",
              "      <th>Age</th>\n",
              "      <th>Tenure</th>\n",
              "      <th>Balance</th>\n",
              "      <th>EstimatedSalary</th>\n",
              "      <th>Mem__no__Products</th>\n",
              "      <th>Cred_Bal_Sal</th>\n",
              "      <th>Bal_sal</th>\n",
              "      <th>Tenure_Age</th>\n",
              "      <th>Age_Tenure_product</th>\n",
              "    </tr>\n",
              "  </thead>\n",
              "  <tbody>\n",
              "    <tr>\n",
              "      <th>CreditScore</th>\n",
              "      <td>1.000000</td>\n",
              "      <td>-0.011745</td>\n",
              "      <td>0.000953</td>\n",
              "      <td>0.004826</td>\n",
              "      <td>-0.000039</td>\n",
              "      <td>0.015581</td>\n",
              "      <td>0.056604</td>\n",
              "      <td>0.005034</td>\n",
              "      <td>0.004206</td>\n",
              "      <td>-0.002434</td>\n",
              "    </tr>\n",
              "    <tr>\n",
              "      <th>Age</th>\n",
              "      <td>-0.011745</td>\n",
              "      <td>1.000000</td>\n",
              "      <td>-0.013961</td>\n",
              "      <td>0.064918</td>\n",
              "      <td>-0.000522</td>\n",
              "      <td>-0.048731</td>\n",
              "      <td>0.065141</td>\n",
              "      <td>0.065663</td>\n",
              "      <td>-0.318850</td>\n",
              "      <td>0.295562</td>\n",
              "    </tr>\n",
              "    <tr>\n",
              "      <th>Tenure</th>\n",
              "      <td>0.000953</td>\n",
              "      <td>-0.013961</td>\n",
              "      <td>1.000000</td>\n",
              "      <td>-0.009417</td>\n",
              "      <td>0.002680</td>\n",
              "      <td>-0.007459</td>\n",
              "      <td>-0.011112</td>\n",
              "      <td>-0.011078</td>\n",
              "      <td>0.937849</td>\n",
              "      <td>0.935901</td>\n",
              "    </tr>\n",
              "    <tr>\n",
              "      <th>Balance</th>\n",
              "      <td>0.004826</td>\n",
              "      <td>0.064918</td>\n",
              "      <td>-0.009417</td>\n",
              "      <td>1.000000</td>\n",
              "      <td>0.004535</td>\n",
              "      <td>-0.107373</td>\n",
              "      <td>0.923109</td>\n",
              "      <td>0.925267</td>\n",
              "      <td>-0.029582</td>\n",
              "      <td>0.009692</td>\n",
              "    </tr>\n",
              "    <tr>\n",
              "      <th>EstimatedSalary</th>\n",
              "      <td>-0.000039</td>\n",
              "      <td>-0.000522</td>\n",
              "      <td>0.002680</td>\n",
              "      <td>0.004535</td>\n",
              "      <td>1.000000</td>\n",
              "      <td>-0.007119</td>\n",
              "      <td>-0.203511</td>\n",
              "      <td>-0.209367</td>\n",
              "      <td>0.003114</td>\n",
              "      <td>0.001135</td>\n",
              "    </tr>\n",
              "    <tr>\n",
              "      <th>Mem__no__Products</th>\n",
              "      <td>0.015581</td>\n",
              "      <td>-0.048731</td>\n",
              "      <td>-0.007459</td>\n",
              "      <td>-0.107373</td>\n",
              "      <td>-0.007119</td>\n",
              "      <td>1.000000</td>\n",
              "      <td>-0.103129</td>\n",
              "      <td>-0.103887</td>\n",
              "      <td>0.004786</td>\n",
              "      <td>-0.016263</td>\n",
              "    </tr>\n",
              "    <tr>\n",
              "      <th>Cred_Bal_Sal</th>\n",
              "      <td>0.056604</td>\n",
              "      <td>0.065141</td>\n",
              "      <td>-0.011112</td>\n",
              "      <td>0.923109</td>\n",
              "      <td>-0.203511</td>\n",
              "      <td>-0.103129</td>\n",
              "      <td>1.000000</td>\n",
              "      <td>0.996271</td>\n",
              "      <td>-0.031280</td>\n",
              "      <td>0.008460</td>\n",
              "    </tr>\n",
              "    <tr>\n",
              "      <th>Bal_sal</th>\n",
              "      <td>0.005034</td>\n",
              "      <td>0.065663</td>\n",
              "      <td>-0.011078</td>\n",
              "      <td>0.925267</td>\n",
              "      <td>-0.209367</td>\n",
              "      <td>-0.103887</td>\n",
              "      <td>0.996271</td>\n",
              "      <td>1.000000</td>\n",
              "      <td>-0.031394</td>\n",
              "      <td>0.008642</td>\n",
              "    </tr>\n",
              "    <tr>\n",
              "      <th>Tenure_Age</th>\n",
              "      <td>0.004206</td>\n",
              "      <td>-0.318850</td>\n",
              "      <td>0.937849</td>\n",
              "      <td>-0.029582</td>\n",
              "      <td>0.003114</td>\n",
              "      <td>0.004786</td>\n",
              "      <td>-0.031280</td>\n",
              "      <td>-0.031394</td>\n",
              "      <td>1.000000</td>\n",
              "      <td>0.770198</td>\n",
              "    </tr>\n",
              "    <tr>\n",
              "      <th>Age_Tenure_product</th>\n",
              "      <td>-0.002434</td>\n",
              "      <td>0.295562</td>\n",
              "      <td>0.935901</td>\n",
              "      <td>0.009692</td>\n",
              "      <td>0.001135</td>\n",
              "      <td>-0.016263</td>\n",
              "      <td>0.008460</td>\n",
              "      <td>0.008642</td>\n",
              "      <td>0.770198</td>\n",
              "      <td>1.000000</td>\n",
              "    </tr>\n",
              "  </tbody>\n",
              "</table>\n",
              "</div>\n",
              "    <div class=\"colab-df-buttons\">\n",
              "\n",
              "  <div class=\"colab-df-container\">\n",
              "    <button class=\"colab-df-convert\" onclick=\"convertToInteractive('df-468d7966-c364-4846-99c1-4758e035a391')\"\n",
              "            title=\"Convert this dataframe to an interactive table.\"\n",
              "            style=\"display:none;\">\n",
              "\n",
              "  <svg xmlns=\"http://www.w3.org/2000/svg\" height=\"24px\" viewBox=\"0 -960 960 960\">\n",
              "    <path d=\"M120-120v-720h720v720H120Zm60-500h600v-160H180v160Zm220 220h160v-160H400v160Zm0 220h160v-160H400v160ZM180-400h160v-160H180v160Zm440 0h160v-160H620v160ZM180-180h160v-160H180v160Zm440 0h160v-160H620v160Z\"/>\n",
              "  </svg>\n",
              "    </button>\n",
              "\n",
              "  <style>\n",
              "    .colab-df-container {\n",
              "      display:flex;\n",
              "      gap: 12px;\n",
              "    }\n",
              "\n",
              "    .colab-df-convert {\n",
              "      background-color: #E8F0FE;\n",
              "      border: none;\n",
              "      border-radius: 50%;\n",
              "      cursor: pointer;\n",
              "      display: none;\n",
              "      fill: #1967D2;\n",
              "      height: 32px;\n",
              "      padding: 0 0 0 0;\n",
              "      width: 32px;\n",
              "    }\n",
              "\n",
              "    .colab-df-convert:hover {\n",
              "      background-color: #E2EBFA;\n",
              "      box-shadow: 0px 1px 2px rgba(60, 64, 67, 0.3), 0px 1px 3px 1px rgba(60, 64, 67, 0.15);\n",
              "      fill: #174EA6;\n",
              "    }\n",
              "\n",
              "    .colab-df-buttons div {\n",
              "      margin-bottom: 4px;\n",
              "    }\n",
              "\n",
              "    [theme=dark] .colab-df-convert {\n",
              "      background-color: #3B4455;\n",
              "      fill: #D2E3FC;\n",
              "    }\n",
              "\n",
              "    [theme=dark] .colab-df-convert:hover {\n",
              "      background-color: #434B5C;\n",
              "      box-shadow: 0px 1px 3px 1px rgba(0, 0, 0, 0.15);\n",
              "      filter: drop-shadow(0px 1px 2px rgba(0, 0, 0, 0.3));\n",
              "      fill: #FFFFFF;\n",
              "    }\n",
              "  </style>\n",
              "\n",
              "    <script>\n",
              "      const buttonEl =\n",
              "        document.querySelector('#df-468d7966-c364-4846-99c1-4758e035a391 button.colab-df-convert');\n",
              "      buttonEl.style.display =\n",
              "        google.colab.kernel.accessAllowed ? 'block' : 'none';\n",
              "\n",
              "      async function convertToInteractive(key) {\n",
              "        const element = document.querySelector('#df-468d7966-c364-4846-99c1-4758e035a391');\n",
              "        const dataTable =\n",
              "          await google.colab.kernel.invokeFunction('convertToInteractive',\n",
              "                                                    [key], {});\n",
              "        if (!dataTable) return;\n",
              "\n",
              "        const docLinkHtml = 'Like what you see? Visit the ' +\n",
              "          '<a target=\"_blank\" href=https://colab.research.google.com/notebooks/data_table.ipynb>data table notebook</a>'\n",
              "          + ' to learn more about interactive tables.';\n",
              "        element.innerHTML = '';\n",
              "        dataTable['output_type'] = 'display_data';\n",
              "        await google.colab.output.renderOutput(dataTable, element);\n",
              "        const docLink = document.createElement('div');\n",
              "        docLink.innerHTML = docLinkHtml;\n",
              "        element.appendChild(docLink);\n",
              "      }\n",
              "    </script>\n",
              "  </div>\n",
              "\n",
              "\n",
              "<div id=\"df-1e48cf94-f26a-428d-914d-8a8a319c36f2\">\n",
              "  <button class=\"colab-df-quickchart\" onclick=\"quickchart('df-1e48cf94-f26a-428d-914d-8a8a319c36f2')\"\n",
              "            title=\"Suggest charts\"\n",
              "            style=\"display:none;\">\n",
              "\n",
              "<svg xmlns=\"http://www.w3.org/2000/svg\" height=\"24px\"viewBox=\"0 0 24 24\"\n",
              "     width=\"24px\">\n",
              "    <g>\n",
              "        <path d=\"M19 3H5c-1.1 0-2 .9-2 2v14c0 1.1.9 2 2 2h14c1.1 0 2-.9 2-2V5c0-1.1-.9-2-2-2zM9 17H7v-7h2v7zm4 0h-2V7h2v10zm4 0h-2v-4h2v4z\"/>\n",
              "    </g>\n",
              "</svg>\n",
              "  </button>\n",
              "\n",
              "<style>\n",
              "  .colab-df-quickchart {\n",
              "      --bg-color: #E8F0FE;\n",
              "      --fill-color: #1967D2;\n",
              "      --hover-bg-color: #E2EBFA;\n",
              "      --hover-fill-color: #174EA6;\n",
              "      --disabled-fill-color: #AAA;\n",
              "      --disabled-bg-color: #DDD;\n",
              "  }\n",
              "\n",
              "  [theme=dark] .colab-df-quickchart {\n",
              "      --bg-color: #3B4455;\n",
              "      --fill-color: #D2E3FC;\n",
              "      --hover-bg-color: #434B5C;\n",
              "      --hover-fill-color: #FFFFFF;\n",
              "      --disabled-bg-color: #3B4455;\n",
              "      --disabled-fill-color: #666;\n",
              "  }\n",
              "\n",
              "  .colab-df-quickchart {\n",
              "    background-color: var(--bg-color);\n",
              "    border: none;\n",
              "    border-radius: 50%;\n",
              "    cursor: pointer;\n",
              "    display: none;\n",
              "    fill: var(--fill-color);\n",
              "    height: 32px;\n",
              "    padding: 0;\n",
              "    width: 32px;\n",
              "  }\n",
              "\n",
              "  .colab-df-quickchart:hover {\n",
              "    background-color: var(--hover-bg-color);\n",
              "    box-shadow: 0 1px 2px rgba(60, 64, 67, 0.3), 0 1px 3px 1px rgba(60, 64, 67, 0.15);\n",
              "    fill: var(--button-hover-fill-color);\n",
              "  }\n",
              "\n",
              "  .colab-df-quickchart-complete:disabled,\n",
              "  .colab-df-quickchart-complete:disabled:hover {\n",
              "    background-color: var(--disabled-bg-color);\n",
              "    fill: var(--disabled-fill-color);\n",
              "    box-shadow: none;\n",
              "  }\n",
              "\n",
              "  .colab-df-spinner {\n",
              "    border: 2px solid var(--fill-color);\n",
              "    border-color: transparent;\n",
              "    border-bottom-color: var(--fill-color);\n",
              "    animation:\n",
              "      spin 1s steps(1) infinite;\n",
              "  }\n",
              "\n",
              "  @keyframes spin {\n",
              "    0% {\n",
              "      border-color: transparent;\n",
              "      border-bottom-color: var(--fill-color);\n",
              "      border-left-color: var(--fill-color);\n",
              "    }\n",
              "    20% {\n",
              "      border-color: transparent;\n",
              "      border-left-color: var(--fill-color);\n",
              "      border-top-color: var(--fill-color);\n",
              "    }\n",
              "    30% {\n",
              "      border-color: transparent;\n",
              "      border-left-color: var(--fill-color);\n",
              "      border-top-color: var(--fill-color);\n",
              "      border-right-color: var(--fill-color);\n",
              "    }\n",
              "    40% {\n",
              "      border-color: transparent;\n",
              "      border-right-color: var(--fill-color);\n",
              "      border-top-color: var(--fill-color);\n",
              "    }\n",
              "    60% {\n",
              "      border-color: transparent;\n",
              "      border-right-color: var(--fill-color);\n",
              "    }\n",
              "    80% {\n",
              "      border-color: transparent;\n",
              "      border-right-color: var(--fill-color);\n",
              "      border-bottom-color: var(--fill-color);\n",
              "    }\n",
              "    90% {\n",
              "      border-color: transparent;\n",
              "      border-bottom-color: var(--fill-color);\n",
              "    }\n",
              "  }\n",
              "</style>\n",
              "\n",
              "  <script>\n",
              "    async function quickchart(key) {\n",
              "      const quickchartButtonEl =\n",
              "        document.querySelector('#' + key + ' button');\n",
              "      quickchartButtonEl.disabled = true;  // To prevent multiple clicks.\n",
              "      quickchartButtonEl.classList.add('colab-df-spinner');\n",
              "      try {\n",
              "        const charts = await google.colab.kernel.invokeFunction(\n",
              "            'suggestCharts', [key], {});\n",
              "      } catch (error) {\n",
              "        console.error('Error during call to suggestCharts:', error);\n",
              "      }\n",
              "      quickchartButtonEl.classList.remove('colab-df-spinner');\n",
              "      quickchartButtonEl.classList.add('colab-df-quickchart-complete');\n",
              "    }\n",
              "    (() => {\n",
              "      let quickchartButtonEl =\n",
              "        document.querySelector('#df-1e48cf94-f26a-428d-914d-8a8a319c36f2 button');\n",
              "      quickchartButtonEl.style.display =\n",
              "        google.colab.kernel.accessAllowed ? 'block' : 'none';\n",
              "    })();\n",
              "  </script>\n",
              "</div>\n",
              "\n",
              "    </div>\n",
              "  </div>\n"
            ],
            "application/vnd.google.colaboratory.intrinsic+json": {
              "type": "dataframe",
              "summary": "{\n  \"name\": \"df[numeric]\",\n  \"rows\": 10,\n  \"fields\": [\n    {\n      \"column\": \"CreditScore\",\n      \"properties\": {\n        \"dtype\": \"number\",\n        \"std\": 0.31420589116776715,\n        \"min\": -0.01174478073428927,\n        \"max\": 1.0,\n        \"num_unique_values\": 10,\n        \"samples\": [\n          0.004205662433725341,\n          -0.01174478073428927,\n          0.015580840287707577\n        ],\n        \"semantic_type\": \"\",\n        \"description\": \"\"\n      }\n    },\n    {\n      \"column\": \"Age\",\n      \"properties\": {\n        \"dtype\": \"number\",\n        \"std\": 0.3470596616821223,\n        \"min\": -0.31884959957291287,\n        \"max\": 1.0,\n        \"num_unique_values\": 10,\n        \"samples\": [\n          -0.31884959957291287,\n          1.0,\n          -0.04873062127175019\n        ],\n        \"semantic_type\": \"\",\n        \"description\": \"\"\n      }\n    },\n    {\n      \"column\": \"Tenure\",\n      \"properties\": {\n        \"dtype\": \"number\",\n        \"std\": 0.46647204923047286,\n        \"min\": -0.01396070790305795,\n        \"max\": 1.0,\n        \"num_unique_values\": 10,\n        \"samples\": [\n          0.9378488158473065,\n          -0.01396070790305795,\n          -0.0074592755761768844\n        ],\n        \"semantic_type\": \"\",\n        \"description\": \"\"\n      }\n    },\n    {\n      \"column\": \"Balance\",\n      \"properties\": {\n        \"dtype\": \"number\",\n        \"std\": 0.4653468446592625,\n        \"min\": -0.10737344894610439,\n        \"max\": 1.0,\n        \"num_unique_values\": 10,\n        \"samples\": [\n          -0.029582190486160304,\n          0.06491795250346503,\n          -0.10737344894610439\n        ],\n        \"semantic_type\": \"\",\n        \"description\": \"\"\n      }\n    },\n    {\n      \"column\": \"EstimatedSalary\",\n      \"properties\": {\n        \"dtype\": \"number\",\n        \"std\": 0.34163396081846187,\n        \"min\": -0.20936680090400123,\n        \"max\": 1.0,\n        \"num_unique_values\": 10,\n        \"samples\": [\n          0.0031141638450364385,\n          -0.0005222219612942051,\n          -0.007119493458550538\n        ],\n        \"semantic_type\": \"\",\n        \"description\": \"\"\n      }\n    },\n    {\n      \"column\": \"Mem__no__Products\",\n      \"properties\": {\n        \"dtype\": \"number\",\n        \"std\": 0.332787872694626,\n        \"min\": -0.10737344894610439,\n        \"max\": 1.0,\n        \"num_unique_values\": 10,\n        \"samples\": [\n          0.004785579725659924,\n          -0.04873062127175019,\n          1.0\n        ],\n        \"semantic_type\": \"\",\n        \"description\": \"\"\n      }\n    },\n    {\n      \"column\": \"Cred_Bal_Sal\",\n      \"properties\": {\n        \"dtype\": \"number\",\n        \"std\": 0.4917158168195946,\n        \"min\": -0.20351117574498628,\n        \"max\": 1.0,\n        \"num_unique_values\": 10,\n        \"samples\": [\n          -0.03127978523895148,\n          0.0651405022398111,\n          -0.10312866594989065\n        ],\n        \"semantic_type\": \"\",\n        \"description\": \"\"\n      }\n    },\n    {\n      \"column\": \"Bal_sal\",\n      \"properties\": {\n        \"dtype\": \"number\",\n        \"std\": 0.4954391204139567,\n        \"min\": -0.20936680090400123,\n        \"max\": 1.0,\n        \"num_unique_values\": 10,\n        \"samples\": [\n          -0.03139410977784939,\n          0.06566304276961624,\n          -0.10388682238110677\n        ],\n        \"semantic_type\": \"\",\n        \"description\": \"\"\n      }\n    },\n    {\n      \"column\": \"Tenure_Age\",\n      \"properties\": {\n        \"dtype\": \"number\",\n        \"std\": 0.47657926436379977,\n        \"min\": -0.31884959957291287,\n        \"max\": 1.0,\n        \"num_unique_values\": 10,\n        \"samples\": [\n          1.0,\n          -0.31884959957291287,\n          0.004785579725659924\n        ],\n        \"semantic_type\": \"\",\n        \"description\": \"\"\n      }\n    },\n    {\n      \"column\": \"Age_Tenure_product\",\n      \"properties\": {\n        \"dtype\": \"number\",\n        \"std\": 0.42823110425485056,\n        \"min\": -0.016263290208152405,\n        \"max\": 1.0,\n        \"num_unique_values\": 10,\n        \"samples\": [\n          0.7701979181168692,\n          0.2955618104084408,\n          -0.016263290208152405\n        ],\n        \"semantic_type\": \"\",\n        \"description\": \"\"\n      }\n    }\n  ]\n}"
            }
          },
          "metadata": {},
          "execution_count": 33
        }
      ],
      "source": [
        "df[numeric].corr(method='spearman')"
      ]
    },
    {
      "cell_type": "code",
      "execution_count": 34,
      "metadata": {
        "colab": {
          "base_uri": "https://localhost:8080/",
          "height": 562
        },
        "id": "kAaEMAmkioRB",
        "outputId": "4e42082d-163c-4289-f8fc-ba0ae27988f8"
      },
      "outputs": [
        {
          "output_type": "display_data",
          "data": {
            "text/plain": [
              "<Figure size 640x480 with 2 Axes>"
            ],
            "image/png": "[encoded data removed]"
          },
          "metadata": {}
        }
      ],
      "source": [
        "sns.heatmap(df[numeric].corr(method='spearman'));"
      ]
    },
    {
      "cell_type": "markdown",
      "metadata": {
        "id": "DnWAEVZ5wytv"
      },
      "source": [
        "Для категориальных признаков нельзя использовать предыдущие методы. Для анализа важный категориальный признак - перестал ли клиент пользоваться банков, потому что именно поэтому признаку будем классифицировать данные. Посмотрим корреляцию предыдущих признаков с категорией остался/ушел ли клиент."
      ]
    },
    {
      "cell_type": "code",
      "execution_count": 35,
      "metadata": {
        "colab": {
          "base_uri": "https://localhost:8080/"
        },
        "id": "OPB3_rM0xZ4X",
        "outputId": "3df96897-3974-4ccc-de9a-069ff092b401"
      },
      "outputs": [
        {
          "output_type": "stream",
          "name": "stdout",
          "text": [
            "Корреляция: -0.02643427297615198, p-значение: 3.612116300821835e-28\n"
          ]
        }
      ],
      "source": [
        "corr, p_value = pointbiserialr(df['Exited'], df['CreditScore'])\n",
        "print(f'Корреляция: {corr}, p-значение: {p_value}')"
      ]
    },
    {
      "cell_type": "markdown",
      "metadata": {
        "id": "7_dMxbZX5Wkl"
      },
      "source": [
        "Так как p-value < 0.05 (типичное пороговое значение), то делаем вывод о том, что взаимосвязь (корреляция) класса ушедших клиентов и кредитной оценки статистически значима."
      ]
    },
    {
      "cell_type": "code",
      "execution_count": 36,
      "metadata": {
        "colab": {
          "base_uri": "https://localhost:8080/"
        },
        "id": "AwsYiGzj6T4D",
        "outputId": "34ee8859-d97a-4385-b9f2-b84c771b319d"
      },
      "outputs": [
        {
          "output_type": "stream",
          "name": "stdout",
          "text": [
            "Корреляция: 0.3441509467474756, p-значение: 0.0\n"
          ]
        }
      ],
      "source": [
        "corr, p_value = pointbiserialr(df['Exited'], df['Age'])\n",
        "print(f'Корреляция: {corr}, p-значение: {p_value}')"
      ]
    },
    {
      "cell_type": "code",
      "source": [
        "corr, p_value = pointbiserialr(df['Exited'], df['Male'])\n",
        "print(f'Корреляция: {corr}, p-значение: {p_value}')"
      ],
      "metadata": {
        "colab": {
          "base_uri": "https://localhost:8080/"
        },
        "id": "6n0mEK58Q5Jf",
        "outputId": "7f83b5a3-43c0-4c12-f2d1-3498bfb8554c"
      },
      "execution_count": 55,
      "outputs": [
        {
          "output_type": "stream",
          "name": "stdout",
          "text": [
            "Корреляция: -0.14393314518922842, p-значение: 0.0\n"
          ]
        }
      ]
    },
    {
      "cell_type": "code",
      "source": [
        "corr, p_value = pointbiserialr(df['Exited'], df['Female'])\n",
        "print(f'Корреляция: {corr}, p-значение: {p_value}')"
      ],
      "metadata": {
        "colab": {
          "base_uri": "https://localhost:8080/"
        },
        "id": "BAGc02YeQ8ii",
        "outputId": "9ae5c5ba-7924-4b96-e52b-c9a3199ca7d0"
      },
      "execution_count": 56,
      "outputs": [
        {
          "output_type": "stream",
          "name": "stdout",
          "text": [
            "Корреляция: 0.14393314518922842, p-значение: 0.0\n"
          ]
        }
      ]
    },
    {
      "cell_type": "markdown",
      "metadata": {
        "id": "EztV7pBO6Zvd"
      },
      "source": [
        "p-value = 0, то есть возраст сильно коррелируется с категориальным признаком"
      ]
    },
    {
      "cell_type": "code",
      "execution_count": 37,
      "metadata": {
        "colab": {
          "base_uri": "https://localhost:8080/"
        },
        "id": "nCr0ayAh6okh",
        "outputId": "8b3ea475-5f38-45f8-a846-1e886f4cd831"
      },
      "outputs": [
        {
          "output_type": "stream",
          "name": "stdout",
          "text": [
            "Корреляция: -0.020576765193240754, p-значение: 1.0723745634965713e-17\n"
          ]
        }
      ],
      "source": [
        "corr, p_value = pointbiserialr(df['Exited'], df['Tenure'])\n",
        "print(f'Корреляция: {corr}, p-значение: {p_value}')"
      ]
    },
    {
      "cell_type": "markdown",
      "metadata": {
        "id": "NvyODAoR6xHi"
      },
      "source": [
        "Взаимосвязь статистически значима"
      ]
    },
    {
      "cell_type": "code",
      "execution_count": 38,
      "metadata": {
        "colab": {
          "base_uri": "https://localhost:8080/"
        },
        "id": "39z2Uofr62Wa",
        "outputId": "f3868ce3-be53-4baa-eda4-0beeb131442c"
      },
      "outputs": [
        {
          "output_type": "stream",
          "name": "stdout",
          "text": [
            "Корреляция: 0.12836604178312847, p-значение: 0.0\n"
          ]
        }
      ],
      "source": [
        "corr, p_value = pointbiserialr(df['Exited'], df['Balance'])\n",
        "print(f'Корреляция: {corr}, p-значение: {p_value}')"
      ]
    },
    {
      "cell_type": "markdown",
      "metadata": {
        "id": "uJOutRSU68Nn"
      },
      "source": [
        "Сильная взаимосвязь"
      ]
    },
    {
      "cell_type": "code",
      "execution_count": 39,
      "metadata": {
        "colab": {
          "base_uri": "https://localhost:8080/"
        },
        "id": "qjYNH0Aa6_cB",
        "outputId": "3069540b-45fc-44ea-800b-e0136857e2a9"
      },
      "outputs": [
        {
          "output_type": "stream",
          "name": "stdout",
          "text": [
            "Корреляция: 0.018788307340324023, p-значение: 5.230433755786142e-15\n"
          ]
        }
      ],
      "source": [
        "corr, p_value = pointbiserialr(df['Exited'], df['EstimatedSalary'])\n",
        "print(f'Корреляция: {corr}, p-значение: {p_value}')"
      ]
    },
    {
      "cell_type": "markdown",
      "metadata": {
        "id": "4aTKDxrQ7Ji0"
      },
      "source": [
        "Взаимосвязь статистически значима"
      ]
    },
    {
      "cell_type": "code",
      "execution_count": 40,
      "metadata": {
        "colab": {
          "base_uri": "https://localhost:8080/"
        },
        "id": "z0e5ewt_7NbW",
        "outputId": "0fcdbc4f-9ef1-4a99-cfb5-8044f07340f7"
      },
      "outputs": [
        {
          "output_type": "stream",
          "name": "stdout",
          "text": [
            "Корреляция: -0.22754958154195928, p-значение: 0.0\n"
          ]
        }
      ],
      "source": [
        "corr, p_value = pointbiserialr(df['Exited'], df['Mem__no__Products'])\n",
        "print(f'Корреляция: {corr}, p-значение: {p_value}')"
      ]
    },
    {
      "cell_type": "markdown",
      "metadata": {
        "id": "jmngRCVA7USs"
      },
      "source": [
        "Взаимосвязь статистически значима"
      ]
    },
    {
      "cell_type": "code",
      "execution_count": 41,
      "metadata": {
        "colab": {
          "base_uri": "https://localhost:8080/"
        },
        "id": "cXhMDcli7WX9",
        "outputId": "f7d7ce2f-8f1a-4123-8056-7c421db4d15e"
      },
      "outputs": [
        {
          "output_type": "stream",
          "name": "stdout",
          "text": [
            "Корреляция: 0.022257327851476973, p-значение: 1.9386515709336378e-20\n"
          ]
        }
      ],
      "source": [
        "corr, p_value = pointbiserialr(df['Exited'], df['Cred_Bal_Sal'])\n",
        "print(f'Корреляция: {corr}, p-значение: {p_value}')"
      ]
    },
    {
      "cell_type": "markdown",
      "metadata": {
        "id": "fxKST05G7fLo"
      },
      "source": [
        "Взаимосвязь статистически значима"
      ]
    },
    {
      "cell_type": "code",
      "execution_count": 42,
      "metadata": {
        "colab": {
          "base_uri": "https://localhost:8080/"
        },
        "id": "fde2COnB7gWR",
        "outputId": "f1b63709-d9ca-4798-f436-01741a4775f4"
      },
      "outputs": [
        {
          "output_type": "stream",
          "name": "stdout",
          "text": [
            "Корреляция: 0.02270945802912786, p-значение: 3.2633062323662643e-21\n"
          ]
        }
      ],
      "source": [
        "corr, p_value = pointbiserialr(df['Exited'], df['Bal_sal'])\n",
        "print(f'Корреляция: {corr}, p-значение: {p_value}')"
      ]
    },
    {
      "cell_type": "markdown",
      "metadata": {
        "id": "3NdTHrG27n7Y"
      },
      "source": [
        "Взаимосвязь статистически значима, но связь слабая\n",
        "\n"
      ]
    },
    {
      "cell_type": "code",
      "execution_count": 43,
      "metadata": {
        "colab": {
          "base_uri": "https://localhost:8080/"
        },
        "id": "1LWF1EVH7o8w",
        "outputId": "22d7d20b-432b-47e5-8763-892a0903bd5a"
      },
      "outputs": [
        {
          "output_type": "stream",
          "name": "stdout",
          "text": [
            "Корреляция: -0.13005306874255246, p-значение: 0.0\n"
          ]
        }
      ],
      "source": [
        "corr, p_value = pointbiserialr(df['Exited'], df['Tenure_Age'])\n",
        "print(f'Корреляция: {corr}, p-значение: {p_value}')"
      ]
    },
    {
      "cell_type": "markdown",
      "metadata": {
        "id": "7u2BkHe77v63"
      },
      "source": [
        "Взаимосвязь статистически значима, но кореляция слабо выражена, значит, влияние не сильное"
      ]
    },
    {
      "cell_type": "code",
      "execution_count": 44,
      "metadata": {
        "colab": {
          "base_uri": "https://localhost:8080/"
        },
        "id": "ktiwXtm_7xwC",
        "outputId": "2e322729-2d2b-4756-8591-b39db62645c1"
      },
      "outputs": [
        {
          "output_type": "stream",
          "name": "stdout",
          "text": [
            "Корреляция: 0.1067916210138852, p-значение: 0.0\n"
          ]
        }
      ],
      "source": [
        "corr, p_value = pointbiserialr(df['Exited'], df['Age_Tenure_product'])\n",
        "print(f'Корреляция: {corr}, p-значение: {p_value}')"
      ]
    },
    {
      "cell_type": "markdown",
      "metadata": {
        "id": "2HQiyXzK9y-M"
      },
      "source": [
        "## Нормализация"
      ]
    },
    {
      "cell_type": "markdown",
      "metadata": {
        "id": "ADacGuhd94ko"
      },
      "source": [
        "Для задачи классификации нормализация поможет сделать модель более устойчивая, так как методы обучения будут основаны на расстояниях, а без нормализации значения могут сильно отличаться"
      ]
    },
    {
      "cell_type": "markdown",
      "metadata": {
        "id": "48cVNRc--mgU"
      },
      "source": [
        "### Min Max нормализация"
      ]
    },
    {
      "cell_type": "code",
      "execution_count": 45,
      "metadata": {
        "id": "EbWB4ZF5913v"
      },
      "outputs": [],
      "source": [
        "scaler = MinMaxScaler()\n",
        "data = scaler.fit_transform(df)"
      ]
    },
    {
      "cell_type": "code",
      "execution_count": 46,
      "metadata": {
        "id": "KXiWpPd5--UG"
      },
      "outputs": [],
      "source": [
        "df = pd.DataFrame(data, columns=df.columns)"
      ]
    },
    {
      "cell_type": "code",
      "source": [
        "df.head(20)"
      ],
      "metadata": {
        "colab": {
          "base_uri": "https://localhost:8080/",
          "height": 725
        },
        "id": "QVxIUz5DFIZT",
        "outputId": "03a6e819-84bf-46e9-a661-e9947d38f4e5"
      },
      "execution_count": 47,
      "outputs": [
        {
          "output_type": "execute_result",
          "data": {
            "text/plain": [
              "     Surname  CreditScore       Age  Tenure   Balance  NumOfProducts  \\\n",
              "0   0.690208     0.583524  0.202703     0.3  0.000000       0.333333   \n",
              "1   0.690549     0.489703  0.202703     0.1  0.000000       0.333333   \n",
              "2   0.421699     0.606407  0.297297     1.0  0.000000       0.333333   \n",
              "3   0.464688     0.384439  0.216216     0.2  0.593398       0.000000   \n",
              "4   0.167520     0.693364  0.202703     0.5  0.000000       0.333333   \n",
              "5   0.335722     0.400458  0.243243     0.4  0.525228       0.000000   \n",
              "6   0.148755     0.411899  0.162162     0.8  0.577018       0.000000   \n",
              "7   0.185261     0.606407  0.256757     0.1  0.551923       0.000000   \n",
              "8   0.569430     0.601831  0.337838     0.4  0.000000       0.333333   \n",
              "9   0.145684     0.389016  0.297297     0.4  0.323934       0.000000   \n",
              "10  0.309451     0.425629  0.121622     0.6  0.644889       0.333333   \n",
              "11  0.179802     0.627002  0.297297     0.3  0.360437       0.000000   \n",
              "12  0.905152     0.613272  0.391892     0.5  0.000000       0.000000   \n",
              "13  0.185943     0.663616  0.202703     0.7  0.759538       0.000000   \n",
              "14  0.909246     0.311213  0.094595     0.5  0.000000       0.333333   \n",
              "15  0.556124     0.432494  0.243243     0.7  0.000000       0.333333   \n",
              "16  0.282156     0.510297  0.243243     0.4  0.468553       0.333333   \n",
              "17  0.381099     0.530892  0.500000     0.8  0.478702       0.000000   \n",
              "18  0.905834     0.334096  0.581081     0.1  0.612644       0.000000   \n",
              "19  0.911975     0.823799  0.229730     0.9  0.000000       0.333333   \n",
              "\n",
              "    HasCrCard  IsActiveMember  EstimatedSalary  Exited  ...  France  Germany  \\\n",
              "0         1.0             0.0         0.907242     0.0  ...     1.0      0.0   \n",
              "1         1.0             1.0         0.247188     0.0  ...     1.0      0.0   \n",
              "2         1.0             0.0         0.924334     0.0  ...     1.0      0.0   \n",
              "3         1.0             1.0         0.422560     0.0  ...     1.0      0.0   \n",
              "4         1.0             1.0         0.074930     0.0  ...     0.0      0.0   \n",
              "5         1.0             0.0         0.680003     1.0  ...     0.0      1.0   \n",
              "6         1.0             0.0         0.148583     0.0  ...     1.0      0.0   \n",
              "7         1.0             0.0         0.534068     0.0  ...     0.0      0.0   \n",
              "8         1.0             0.0         0.714484     0.0  ...     1.0      0.0   \n",
              "9         1.0             1.0         0.854182     0.0  ...     0.0      1.0   \n",
              "10        1.0             0.0         0.545737     0.0  ...     0.0      1.0   \n",
              "11        1.0             0.0         0.007938     0.0  ...     0.0      1.0   \n",
              "12        1.0             1.0         0.364456     0.0  ...     1.0      0.0   \n",
              "13        1.0             1.0         0.399730     0.0  ...     1.0      0.0   \n",
              "14        1.0             0.0         0.811250     0.0  ...     1.0      0.0   \n",
              "15        0.0             1.0         0.675292     0.0  ...     1.0      0.0   \n",
              "16        1.0             0.0         0.557688     0.0  ...     1.0      0.0   \n",
              "17        1.0             0.0         0.625271     1.0  ...     0.0      1.0   \n",
              "18        0.0             1.0         0.904443     1.0  ...     1.0      0.0   \n",
              "19        0.0             1.0         0.437510     0.0  ...     0.0      0.0   \n",
              "\n",
              "    Spain  Female  Male  Mem__no__Products  Cred_Bal_Sal   Bal_sal  \\\n",
              "0     0.0     0.0   1.0               0.00      0.000000  0.000000   \n",
              "1     0.0     0.0   1.0               0.50      0.000000  0.000000   \n",
              "2     0.0     0.0   1.0               0.00      0.000000  0.000000   \n",
              "3     0.0     0.0   1.0               0.25      0.005576  0.005037   \n",
              "4     1.0     0.0   1.0               0.50      0.000000  0.000000   \n",
              "5     0.0     0.0   1.0               0.00      0.003105  0.002772   \n",
              "6     0.0     1.0   0.0               0.00      0.015707  0.013903   \n",
              "7     1.0     0.0   1.0               0.00      0.004789  0.003708   \n",
              "8     0.0     0.0   1.0               0.00      0.000000  0.000000   \n",
              "9     0.0     0.0   1.0               0.25      0.001512  0.001361   \n",
              "10    0.0     1.0   0.0               0.00      0.004839  0.004240   \n",
              "11    0.0     0.0   1.0               0.00      0.201946  0.154291   \n",
              "12    0.0     0.0   1.0               0.25      0.000000  0.000000   \n",
              "13    0.0     1.0   0.0               0.25      0.009128  0.006816   \n",
              "14    0.0     1.0   0.0               0.00      0.000000  0.000000   \n",
              "15    0.0     0.0   1.0               0.50      0.000000  0.000000   \n",
              "16    0.0     0.0   1.0               0.00      0.003653  0.003015   \n",
              "17    0.0     1.0   0.0               0.00      0.003376  0.002747   \n",
              "18    0.0     0.0   1.0               0.25      0.002589  0.002431   \n",
              "19    1.0     0.0   1.0               0.50      0.000000  0.000000   \n",
              "\n",
              "    Tenure_Age  Age_Tenure_product  \n",
              "0     0.232323            0.181319  \n",
              "1     0.077441            0.060440  \n",
              "2     0.638889            0.732601  \n",
              "3     0.150327            0.124542  \n",
              "4     0.387205            0.302198  \n",
              "5     0.283951            0.263736  \n",
              "6     0.681481            0.439560  \n",
              "7     0.069069            0.067766  \n",
              "8     0.237726            0.315018  \n",
              "9     0.255556            0.293040  \n",
              "10    0.567901            0.296703  \n",
              "11    0.191667            0.219780  \n",
              "12    0.271868            0.430403  \n",
              "13    0.542088            0.423077  \n",
              "14    0.511111            0.228938  \n",
              "15    0.496914            0.461538  \n",
              "16    0.283951            0.263736  \n",
              "17    0.371717            0.805861  \n",
              "18    0.041894            0.111722  \n",
              "19    0.657143            0.576923  \n",
              "\n",
              "[20 rows x 25 columns]"
            ],
            "text/html": [
              "\n",
              "  <div id=\"df-18426894-dc52-4474-8aa7-a7ff2b473659\" class=\"colab-df-container\">\n",
              "    <div>\n",
              "<style scoped>\n",
              "    .dataframe tbody tr th:only-of-type {\n",
              "        vertical-align: middle;\n",
              "    }\n",
              "\n",
              "    .dataframe tbody tr th {\n",
              "        vertical-align: top;\n",
              "    }\n",
              "\n",
              "    .dataframe thead th {\n",
              "        text-align: right;\n",
              "    }\n",
              "</style>\n",
              "<table border=\"1\" class=\"dataframe\">\n",
              "  <thead>\n",
              "    <tr style=\"text-align: right;\">\n",
              "      <th></th>\n",
              "      <th>Surname</th>\n",
              "      <th>CreditScore</th>\n",
              "      <th>Age</th>\n",
              "      <th>Tenure</th>\n",
              "      <th>Balance</th>\n",
              "      <th>NumOfProducts</th>\n",
              "      <th>HasCrCard</th>\n",
              "      <th>IsActiveMember</th>\n",
              "      <th>EstimatedSalary</th>\n",
              "      <th>Exited</th>\n",
              "      <th>...</th>\n",
              "      <th>France</th>\n",
              "      <th>Germany</th>\n",
              "      <th>Spain</th>\n",
              "      <th>Female</th>\n",
              "      <th>Male</th>\n",
              "      <th>Mem__no__Products</th>\n",
              "      <th>Cred_Bal_Sal</th>\n",
              "      <th>Bal_sal</th>\n",
              "      <th>Tenure_Age</th>\n",
              "      <th>Age_Tenure_product</th>\n",
              "    </tr>\n",
              "  </thead>\n",
              "  <tbody>\n",
              "    <tr>\n",
              "      <th>0</th>\n",
              "      <td>0.690208</td>\n",
              "      <td>0.583524</td>\n",
              "      <td>0.202703</td>\n",
              "      <td>0.3</td>\n",
              "      <td>0.000000</td>\n",
              "      <td>0.333333</td>\n",
              "      <td>1.0</td>\n",
              "      <td>0.0</td>\n",
              "      <td>0.907242</td>\n",
              "      <td>0.0</td>\n",
              "      <td>...</td>\n",
              "      <td>1.0</td>\n",
              "      <td>0.0</td>\n",
              "      <td>0.0</td>\n",
              "      <td>0.0</td>\n",
              "      <td>1.0</td>\n",
              "      <td>0.00</td>\n",
              "      <td>0.000000</td>\n",
              "      <td>0.000000</td>\n",
              "      <td>0.232323</td>\n",
              "      <td>0.181319</td>\n",
              "    </tr>\n",
              "    <tr>\n",
              "      <th>1</th>\n",
              "      <td>0.690549</td>\n",
              "      <td>0.489703</td>\n",
              "      <td>0.202703</td>\n",
              "      <td>0.1</td>\n",
              "      <td>0.000000</td>\n",
              "      <td>0.333333</td>\n",
              "      <td>1.0</td>\n",
              "      <td>1.0</td>\n",
              "      <td>0.247188</td>\n",
              "      <td>0.0</td>\n",
              "      <td>...</td>\n",
              "      <td>1.0</td>\n",
              "      <td>0.0</td>\n",
              "      <td>0.0</td>\n",
              "      <td>0.0</td>\n",
              "      <td>1.0</td>\n",
              "      <td>0.50</td>\n",
              "      <td>0.000000</td>\n",
              "      <td>0.000000</td>\n",
              "      <td>0.077441</td>\n",
              "      <td>0.060440</td>\n",
              "    </tr>\n",
              "    <tr>\n",
              "      <th>2</th>\n",
              "      <td>0.421699</td>\n",
              "      <td>0.606407</td>\n",
              "      <td>0.297297</td>\n",
              "      <td>1.0</td>\n",
              "      <td>0.000000</td>\n",
              "      <td>0.333333</td>\n",
              "      <td>1.0</td>\n",
              "      <td>0.0</td>\n",
              "      <td>0.924334</td>\n",
              "      <td>0.0</td>\n",
              "      <td>...</td>\n",
              "      <td>1.0</td>\n",
              "      <td>0.0</td>\n",
              "      <td>0.0</td>\n",
              "      <td>0.0</td>\n",
              "      <td>1.0</td>\n",
              "      <td>0.00</td>\n",
              "      <td>0.000000</td>\n",
              "      <td>0.000000</td>\n",
              "      <td>0.638889</td>\n",
              "      <td>0.732601</td>\n",
              "    </tr>\n",
              "    <tr>\n",
              "      <th>3</th>\n",
              "      <td>0.464688</td>\n",
              "      <td>0.384439</td>\n",
              "      <td>0.216216</td>\n",
              "      <td>0.2</td>\n",
              "      <td>0.593398</td>\n",
              "      <td>0.000000</td>\n",
              "      <td>1.0</td>\n",
              "      <td>1.0</td>\n",
              "      <td>0.422560</td>\n",
              "      <td>0.0</td>\n",
              "      <td>...</td>\n",
              "      <td>1.0</td>\n",
              "      <td>0.0</td>\n",
              "      <td>0.0</td>\n",
              "      <td>0.0</td>\n",
              "      <td>1.0</td>\n",
              "      <td>0.25</td>\n",
              "      <td>0.005576</td>\n",
              "      <td>0.005037</td>\n",
              "      <td>0.150327</td>\n",
              "      <td>0.124542</td>\n",
              "    </tr>\n",
              "    <tr>\n",
              "      <th>4</th>\n",
              "      <td>0.167520</td>\n",
              "      <td>0.693364</td>\n",
              "      <td>0.202703</td>\n",
              "      <td>0.5</td>\n",
              "      <td>0.000000</td>\n",
              "      <td>0.333333</td>\n",
              "      <td>1.0</td>\n",
              "      <td>1.0</td>\n",
              "      <td>0.074930</td>\n",
              "      <td>0.0</td>\n",
              "      <td>...</td>\n",
              "      <td>0.0</td>\n",
              "      <td>0.0</td>\n",
              "      <td>1.0</td>\n",
              "      <td>0.0</td>\n",
              "      <td>1.0</td>\n",
              "      <td>0.50</td>\n",
              "      <td>0.000000</td>\n",
              "      <td>0.000000</td>\n",
              "      <td>0.387205</td>\n",
              "      <td>0.302198</td>\n",
              "    </tr>\n",
              "    <tr>\n",
              "      <th>5</th>\n",
              "      <td>0.335722</td>\n",
              "      <td>0.400458</td>\n",
              "      <td>0.243243</td>\n",
              "      <td>0.4</td>\n",
              "      <td>0.525228</td>\n",
              "      <td>0.000000</td>\n",
              "      <td>1.0</td>\n",
              "      <td>0.0</td>\n",
              "      <td>0.680003</td>\n",
              "      <td>1.0</td>\n",
              "      <td>...</td>\n",
              "      <td>0.0</td>\n",
              "      <td>1.0</td>\n",
              "      <td>0.0</td>\n",
              "      <td>0.0</td>\n",
              "      <td>1.0</td>\n",
              "      <td>0.00</td>\n",
              "      <td>0.003105</td>\n",
              "      <td>0.002772</td>\n",
              "      <td>0.283951</td>\n",
              "      <td>0.263736</td>\n",
              "    </tr>\n",
              "    <tr>\n",
              "      <th>6</th>\n",
              "      <td>0.148755</td>\n",
              "      <td>0.411899</td>\n",
              "      <td>0.162162</td>\n",
              "      <td>0.8</td>\n",
              "      <td>0.577018</td>\n",
              "      <td>0.000000</td>\n",
              "      <td>1.0</td>\n",
              "      <td>0.0</td>\n",
              "      <td>0.148583</td>\n",
              "      <td>0.0</td>\n",
              "      <td>...</td>\n",
              "      <td>1.0</td>\n",
              "      <td>0.0</td>\n",
              "      <td>0.0</td>\n",
              "      <td>1.0</td>\n",
              "      <td>0.0</td>\n",
              "      <td>0.00</td>\n",
              "      <td>0.015707</td>\n",
              "      <td>0.013903</td>\n",
              "      <td>0.681481</td>\n",
              "      <td>0.439560</td>\n",
              "    </tr>\n",
              "    <tr>\n",
              "      <th>7</th>\n",
              "      <td>0.185261</td>\n",
              "      <td>0.606407</td>\n",
              "      <td>0.256757</td>\n",
              "      <td>0.1</td>\n",
              "      <td>0.551923</td>\n",
              "      <td>0.000000</td>\n",
              "      <td>1.0</td>\n",
              "      <td>0.0</td>\n",
              "      <td>0.534068</td>\n",
              "      <td>0.0</td>\n",
              "      <td>...</td>\n",
              "      <td>0.0</td>\n",
              "      <td>0.0</td>\n",
              "      <td>1.0</td>\n",
              "      <td>0.0</td>\n",
              "      <td>1.0</td>\n",
              "      <td>0.00</td>\n",
              "      <td>0.004789</td>\n",
              "      <td>0.003708</td>\n",
              "      <td>0.069069</td>\n",
              "      <td>0.067766</td>\n",
              "    </tr>\n",
              "    <tr>\n",
              "      <th>8</th>\n",
              "      <td>0.569430</td>\n",
              "      <td>0.601831</td>\n",
              "      <td>0.337838</td>\n",
              "      <td>0.4</td>\n",
              "      <td>0.000000</td>\n",
              "      <td>0.333333</td>\n",
              "      <td>1.0</td>\n",
              "      <td>0.0</td>\n",
              "      <td>0.714484</td>\n",
              "      <td>0.0</td>\n",
              "      <td>...</td>\n",
              "      <td>1.0</td>\n",
              "      <td>0.0</td>\n",
              "      <td>0.0</td>\n",
              "      <td>0.0</td>\n",
              "      <td>1.0</td>\n",
              "      <td>0.00</td>\n",
              "      <td>0.000000</td>\n",
              "      <td>0.000000</td>\n",
              "      <td>0.237726</td>\n",
              "      <td>0.315018</td>\n",
              "    </tr>\n",
              "    <tr>\n",
              "      <th>9</th>\n",
              "      <td>0.145684</td>\n",
              "      <td>0.389016</td>\n",
              "      <td>0.297297</td>\n",
              "      <td>0.4</td>\n",
              "      <td>0.323934</td>\n",
              "      <td>0.000000</td>\n",
              "      <td>1.0</td>\n",
              "      <td>1.0</td>\n",
              "      <td>0.854182</td>\n",
              "      <td>0.0</td>\n",
              "      <td>...</td>\n",
              "      <td>0.0</td>\n",
              "      <td>1.0</td>\n",
              "      <td>0.0</td>\n",
              "      <td>0.0</td>\n",
              "      <td>1.0</td>\n",
              "      <td>0.25</td>\n",
              "      <td>0.001512</td>\n",
              "      <td>0.001361</td>\n",
              "      <td>0.255556</td>\n",
              "      <td>0.293040</td>\n",
              "    </tr>\n",
              "    <tr>\n",
              "      <th>10</th>\n",
              "      <td>0.309451</td>\n",
              "      <td>0.425629</td>\n",
              "      <td>0.121622</td>\n",
              "      <td>0.6</td>\n",
              "      <td>0.644889</td>\n",
              "      <td>0.333333</td>\n",
              "      <td>1.0</td>\n",
              "      <td>0.0</td>\n",
              "      <td>0.545737</td>\n",
              "      <td>0.0</td>\n",
              "      <td>...</td>\n",
              "      <td>0.0</td>\n",
              "      <td>1.0</td>\n",
              "      <td>0.0</td>\n",
              "      <td>1.0</td>\n",
              "      <td>0.0</td>\n",
              "      <td>0.00</td>\n",
              "      <td>0.004839</td>\n",
              "      <td>0.004240</td>\n",
              "      <td>0.567901</td>\n",
              "      <td>0.296703</td>\n",
              "    </tr>\n",
              "    <tr>\n",
              "      <th>11</th>\n",
              "      <td>0.179802</td>\n",
              "      <td>0.627002</td>\n",
              "      <td>0.297297</td>\n",
              "      <td>0.3</td>\n",
              "      <td>0.360437</td>\n",
              "      <td>0.000000</td>\n",
              "      <td>1.0</td>\n",
              "      <td>0.0</td>\n",
              "      <td>0.007938</td>\n",
              "      <td>0.0</td>\n",
              "      <td>...</td>\n",
              "      <td>0.0</td>\n",
              "      <td>1.0</td>\n",
              "      <td>0.0</td>\n",
              "      <td>0.0</td>\n",
              "      <td>1.0</td>\n",
              "      <td>0.00</td>\n",
              "      <td>0.201946</td>\n",
              "      <td>0.154291</td>\n",
              "      <td>0.191667</td>\n",
              "      <td>0.219780</td>\n",
              "    </tr>\n",
              "    <tr>\n",
              "      <th>12</th>\n",
              "      <td>0.905152</td>\n",
              "      <td>0.613272</td>\n",
              "      <td>0.391892</td>\n",
              "      <td>0.5</td>\n",
              "      <td>0.000000</td>\n",
              "      <td>0.000000</td>\n",
              "      <td>1.0</td>\n",
              "      <td>1.0</td>\n",
              "      <td>0.364456</td>\n",
              "      <td>0.0</td>\n",
              "      <td>...</td>\n",
              "      <td>1.0</td>\n",
              "      <td>0.0</td>\n",
              "      <td>0.0</td>\n",
              "      <td>0.0</td>\n",
              "      <td>1.0</td>\n",
              "      <td>0.25</td>\n",
              "      <td>0.000000</td>\n",
              "      <td>0.000000</td>\n",
              "      <td>0.271868</td>\n",
              "      <td>0.430403</td>\n",
              "    </tr>\n",
              "    <tr>\n",
              "      <th>13</th>\n",
              "      <td>0.185943</td>\n",
              "      <td>0.663616</td>\n",
              "      <td>0.202703</td>\n",
              "      <td>0.7</td>\n",
              "      <td>0.759538</td>\n",
              "      <td>0.000000</td>\n",
              "      <td>1.0</td>\n",
              "      <td>1.0</td>\n",
              "      <td>0.399730</td>\n",
              "      <td>0.0</td>\n",
              "      <td>...</td>\n",
              "      <td>1.0</td>\n",
              "      <td>0.0</td>\n",
              "      <td>0.0</td>\n",
              "      <td>1.0</td>\n",
              "      <td>0.0</td>\n",
              "      <td>0.25</td>\n",
              "      <td>0.009128</td>\n",
              "      <td>0.006816</td>\n",
              "      <td>0.542088</td>\n",
              "      <td>0.423077</td>\n",
              "    </tr>\n",
              "    <tr>\n",
              "      <th>14</th>\n",
              "      <td>0.909246</td>\n",
              "      <td>0.311213</td>\n",
              "      <td>0.094595</td>\n",
              "      <td>0.5</td>\n",
              "      <td>0.000000</td>\n",
              "      <td>0.333333</td>\n",
              "      <td>1.0</td>\n",
              "      <td>0.0</td>\n",
              "      <td>0.811250</td>\n",
              "      <td>0.0</td>\n",
              "      <td>...</td>\n",
              "      <td>1.0</td>\n",
              "      <td>0.0</td>\n",
              "      <td>0.0</td>\n",
              "      <td>1.0</td>\n",
              "      <td>0.0</td>\n",
              "      <td>0.00</td>\n",
              "      <td>0.000000</td>\n",
              "      <td>0.000000</td>\n",
              "      <td>0.511111</td>\n",
              "      <td>0.228938</td>\n",
              "    </tr>\n",
              "    <tr>\n",
              "      <th>15</th>\n",
              "      <td>0.556124</td>\n",
              "      <td>0.432494</td>\n",
              "      <td>0.243243</td>\n",
              "      <td>0.7</td>\n",
              "      <td>0.000000</td>\n",
              "      <td>0.333333</td>\n",
              "      <td>0.0</td>\n",
              "      <td>1.0</td>\n",
              "      <td>0.675292</td>\n",
              "      <td>0.0</td>\n",
              "      <td>...</td>\n",
              "      <td>1.0</td>\n",
              "      <td>0.0</td>\n",
              "      <td>0.0</td>\n",
              "      <td>0.0</td>\n",
              "      <td>1.0</td>\n",
              "      <td>0.50</td>\n",
              "      <td>0.000000</td>\n",
              "      <td>0.000000</td>\n",
              "      <td>0.496914</td>\n",
              "      <td>0.461538</td>\n",
              "    </tr>\n",
              "    <tr>\n",
              "      <th>16</th>\n",
              "      <td>0.282156</td>\n",
              "      <td>0.510297</td>\n",
              "      <td>0.243243</td>\n",
              "      <td>0.4</td>\n",
              "      <td>0.468553</td>\n",
              "      <td>0.333333</td>\n",
              "      <td>1.0</td>\n",
              "      <td>0.0</td>\n",
              "      <td>0.557688</td>\n",
              "      <td>0.0</td>\n",
              "      <td>...</td>\n",
              "      <td>1.0</td>\n",
              "      <td>0.0</td>\n",
              "      <td>0.0</td>\n",
              "      <td>0.0</td>\n",
              "      <td>1.0</td>\n",
              "      <td>0.00</td>\n",
              "      <td>0.003653</td>\n",
              "      <td>0.003015</td>\n",
              "      <td>0.283951</td>\n",
              "      <td>0.263736</td>\n",
              "    </tr>\n",
              "    <tr>\n",
              "      <th>17</th>\n",
              "      <td>0.381099</td>\n",
              "      <td>0.530892</td>\n",
              "      <td>0.500000</td>\n",
              "      <td>0.8</td>\n",
              "      <td>0.478702</td>\n",
              "      <td>0.000000</td>\n",
              "      <td>1.0</td>\n",
              "      <td>0.0</td>\n",
              "      <td>0.625271</td>\n",
              "      <td>1.0</td>\n",
              "      <td>...</td>\n",
              "      <td>0.0</td>\n",
              "      <td>1.0</td>\n",
              "      <td>0.0</td>\n",
              "      <td>1.0</td>\n",
              "      <td>0.0</td>\n",
              "      <td>0.00</td>\n",
              "      <td>0.003376</td>\n",
              "      <td>0.002747</td>\n",
              "      <td>0.371717</td>\n",
              "      <td>0.805861</td>\n",
              "    </tr>\n",
              "    <tr>\n",
              "      <th>18</th>\n",
              "      <td>0.905834</td>\n",
              "      <td>0.334096</td>\n",
              "      <td>0.581081</td>\n",
              "      <td>0.1</td>\n",
              "      <td>0.612644</td>\n",
              "      <td>0.000000</td>\n",
              "      <td>0.0</td>\n",
              "      <td>1.0</td>\n",
              "      <td>0.904443</td>\n",
              "      <td>1.0</td>\n",
              "      <td>...</td>\n",
              "      <td>1.0</td>\n",
              "      <td>0.0</td>\n",
              "      <td>0.0</td>\n",
              "      <td>0.0</td>\n",
              "      <td>1.0</td>\n",
              "      <td>0.25</td>\n",
              "      <td>0.002589</td>\n",
              "      <td>0.002431</td>\n",
              "      <td>0.041894</td>\n",
              "      <td>0.111722</td>\n",
              "    </tr>\n",
              "    <tr>\n",
              "      <th>19</th>\n",
              "      <td>0.911975</td>\n",
              "      <td>0.823799</td>\n",
              "      <td>0.229730</td>\n",
              "      <td>0.9</td>\n",
              "      <td>0.000000</td>\n",
              "      <td>0.333333</td>\n",
              "      <td>0.0</td>\n",
              "      <td>1.0</td>\n",
              "      <td>0.437510</td>\n",
              "      <td>0.0</td>\n",
              "      <td>...</td>\n",
              "      <td>0.0</td>\n",
              "      <td>0.0</td>\n",
              "      <td>1.0</td>\n",
              "      <td>0.0</td>\n",
              "      <td>1.0</td>\n",
              "      <td>0.50</td>\n",
              "      <td>0.000000</td>\n",
              "      <td>0.000000</td>\n",
              "      <td>0.657143</td>\n",
              "      <td>0.576923</td>\n",
              "    </tr>\n",
              "  </tbody>\n",
              "</table>\n",
              "<p>20 rows × 25 columns</p>\n",
              "</div>\n",
              "    <div class=\"colab-df-buttons\">\n",
              "\n",
              "  <div class=\"colab-df-container\">\n",
              "    <button class=\"colab-df-convert\" onclick=\"convertToInteractive('df-18426894-dc52-4474-8aa7-a7ff2b473659')\"\n",
              "            title=\"Convert this dataframe to an interactive table.\"\n",
              "            style=\"display:none;\">\n",
              "\n",
              "  <svg xmlns=\"http://www.w3.org/2000/svg\" height=\"24px\" viewBox=\"0 -960 960 960\">\n",
              "    <path d=\"M120-120v-720h720v720H120Zm60-500h600v-160H180v160Zm220 220h160v-160H400v160Zm0 220h160v-160H400v160ZM180-400h160v-160H180v160Zm440 0h160v-160H620v160ZM180-180h160v-160H180v160Zm440 0h160v-160H620v160Z\"/>\n",
              "  </svg>\n",
              "    </button>\n",
              "\n",
              "  <style>\n",
              "    .colab-df-container {\n",
              "      display:flex;\n",
              "      gap: 12px;\n",
              "    }\n",
              "\n",
              "    .colab-df-convert {\n",
              "      background-color: #E8F0FE;\n",
              "      border: none;\n",
              "      border-radius: 50%;\n",
              "      cursor: pointer;\n",
              "      display: none;\n",
              "      fill: #1967D2;\n",
              "      height: 32px;\n",
              "      padding: 0 0 0 0;\n",
              "      width: 32px;\n",
              "    }\n",
              "\n",
              "    .colab-df-convert:hover {\n",
              "      background-color: #E2EBFA;\n",
              "      box-shadow: 0px 1px 2px rgba(60, 64, 67, 0.3), 0px 1px 3px 1px rgba(60, 64, 67, 0.15);\n",
              "      fill: #174EA6;\n",
              "    }\n",
              "\n",
              "    .colab-df-buttons div {\n",
              "      margin-bottom: 4px;\n",
              "    }\n",
              "\n",
              "    [theme=dark] .colab-df-convert {\n",
              "      background-color: #3B4455;\n",
              "      fill: #D2E3FC;\n",
              "    }\n",
              "\n",
              "    [theme=dark] .colab-df-convert:hover {\n",
              "      background-color: #434B5C;\n",
              "      box-shadow: 0px 1px 3px 1px rgba(0, 0, 0, 0.15);\n",
              "      filter: drop-shadow(0px 1px 2px rgba(0, 0, 0, 0.3));\n",
              "      fill: #FFFFFF;\n",
              "    }\n",
              "  </style>\n",
              "\n",
              "    <script>\n",
              "      const buttonEl =\n",
              "        document.querySelector('#df-18426894-dc52-4474-8aa7-a7ff2b473659 button.colab-df-convert');\n",
              "      buttonEl.style.display =\n",
              "        google.colab.kernel.accessAllowed ? 'block' : 'none';\n",
              "\n",
              "      async function convertToInteractive(key) {\n",
              "        const element = document.querySelector('#df-18426894-dc52-4474-8aa7-a7ff2b473659');\n",
              "        const dataTable =\n",
              "          await google.colab.kernel.invokeFunction('convertToInteractive',\n",
              "                                                    [key], {});\n",
              "        if (!dataTable) return;\n",
              "\n",
              "        const docLinkHtml = 'Like what you see? Visit the ' +\n",
              "          '<a target=\"_blank\" href=https://colab.research.google.com/notebooks/data_table.ipynb>data table notebook</a>'\n",
              "          + ' to learn more about interactive tables.';\n",
              "        element.innerHTML = '';\n",
              "        dataTable['output_type'] = 'display_data';\n",
              "        await google.colab.output.renderOutput(dataTable, element);\n",
              "        const docLink = document.createElement('div');\n",
              "        docLink.innerHTML = docLinkHtml;\n",
              "        element.appendChild(docLink);\n",
              "      }\n",
              "    </script>\n",
              "  </div>\n",
              "\n",
              "\n",
              "<div id=\"df-15e4d0d2-ed5b-4fca-84c2-c70d5f271f69\">\n",
              "  <button class=\"colab-df-quickchart\" onclick=\"quickchart('df-15e4d0d2-ed5b-4fca-84c2-c70d5f271f69')\"\n",
              "            title=\"Suggest charts\"\n",
              "            style=\"display:none;\">\n",
              "\n",
              "<svg xmlns=\"http://www.w3.org/2000/svg\" height=\"24px\"viewBox=\"0 0 24 24\"\n",
              "     width=\"24px\">\n",
              "    <g>\n",
              "        <path d=\"M19 3H5c-1.1 0-2 .9-2 2v14c0 1.1.9 2 2 2h14c1.1 0 2-.9 2-2V5c0-1.1-.9-2-2-2zM9 17H7v-7h2v7zm4 0h-2V7h2v10zm4 0h-2v-4h2v4z\"/>\n",
              "    </g>\n",
              "</svg>\n",
              "  </button>\n",
              "\n",
              "<style>\n",
              "  .colab-df-quickchart {\n",
              "      --bg-color: #E8F0FE;\n",
              "      --fill-color: #1967D2;\n",
              "      --hover-bg-color: #E2EBFA;\n",
              "      --hover-fill-color: #174EA6;\n",
              "      --disabled-fill-color: #AAA;\n",
              "      --disabled-bg-color: #DDD;\n",
              "  }\n",
              "\n",
              "  [theme=dark] .colab-df-quickchart {\n",
              "      --bg-color: #3B4455;\n",
              "      --fill-color: #D2E3FC;\n",
              "      --hover-bg-color: #434B5C;\n",
              "      --hover-fill-color: #FFFFFF;\n",
              "      --disabled-bg-color: #3B4455;\n",
              "      --disabled-fill-color: #666;\n",
              "  }\n",
              "\n",
              "  .colab-df-quickchart {\n",
              "    background-color: var(--bg-color);\n",
              "    border: none;\n",
              "    border-radius: 50%;\n",
              "    cursor: pointer;\n",
              "    display: none;\n",
              "    fill: var(--fill-color);\n",
              "    height: 32px;\n",
              "    padding: 0;\n",
              "    width: 32px;\n",
              "  }\n",
              "\n",
              "  .colab-df-quickchart:hover {\n",
              "    background-color: var(--hover-bg-color);\n",
              "    box-shadow: 0 1px 2px rgba(60, 64, 67, 0.3), 0 1px 3px 1px rgba(60, 64, 67, 0.15);\n",
              "    fill: var(--button-hover-fill-color);\n",
              "  }\n",
              "\n",
              "  .colab-df-quickchart-complete:disabled,\n",
              "  .colab-df-quickchart-complete:disabled:hover {\n",
              "    background-color: var(--disabled-bg-color);\n",
              "    fill: var(--disabled-fill-color);\n",
              "    box-shadow: none;\n",
              "  }\n",
              "\n",
              "  .colab-df-spinner {\n",
              "    border: 2px solid var(--fill-color);\n",
              "    border-color: transparent;\n",
              "    border-bottom-color: var(--fill-color);\n",
              "    animation:\n",
              "      spin 1s steps(1) infinite;\n",
              "  }\n",
              "\n",
              "  @keyframes spin {\n",
              "    0% {\n",
              "      border-color: transparent;\n",
              "      border-bottom-color: var(--fill-color);\n",
              "      border-left-color: var(--fill-color);\n",
              "    }\n",
              "    20% {\n",
              "      border-color: transparent;\n",
              "      border-left-color: var(--fill-color);\n",
              "      border-top-color: var(--fill-color);\n",
              "    }\n",
              "    30% {\n",
              "      border-color: transparent;\n",
              "      border-left-color: var(--fill-color);\n",
              "      border-top-color: var(--fill-color);\n",
              "      border-right-color: var(--fill-color);\n",
              "    }\n",
              "    40% {\n",
              "      border-color: transparent;\n",
              "      border-right-color: var(--fill-color);\n",
              "      border-top-color: var(--fill-color);\n",
              "    }\n",
              "    60% {\n",
              "      border-color: transparent;\n",
              "      border-right-color: var(--fill-color);\n",
              "    }\n",
              "    80% {\n",
              "      border-color: transparent;\n",
              "      border-right-color: var(--fill-color);\n",
              "      border-bottom-color: var(--fill-color);\n",
              "    }\n",
              "    90% {\n",
              "      border-color: transparent;\n",
              "      border-bottom-color: var(--fill-color);\n",
              "    }\n",
              "  }\n",
              "</style>\n",
              "\n",
              "  <script>\n",
              "    async function quickchart(key) {\n",
              "      const quickchartButtonEl =\n",
              "        document.querySelector('#' + key + ' button');\n",
              "      quickchartButtonEl.disabled = true;  // To prevent multiple clicks.\n",
              "      quickchartButtonEl.classList.add('colab-df-spinner');\n",
              "      try {\n",
              "        const charts = await google.colab.kernel.invokeFunction(\n",
              "            'suggestCharts', [key], {});\n",
              "      } catch (error) {\n",
              "        console.error('Error during call to suggestCharts:', error);\n",
              "      }\n",
              "      quickchartButtonEl.classList.remove('colab-df-spinner');\n",
              "      quickchartButtonEl.classList.add('colab-df-quickchart-complete');\n",
              "    }\n",
              "    (() => {\n",
              "      let quickchartButtonEl =\n",
              "        document.querySelector('#df-15e4d0d2-ed5b-4fca-84c2-c70d5f271f69 button');\n",
              "      quickchartButtonEl.style.display =\n",
              "        google.colab.kernel.accessAllowed ? 'block' : 'none';\n",
              "    })();\n",
              "  </script>\n",
              "</div>\n",
              "\n",
              "    </div>\n",
              "  </div>\n"
            ],
            "application/vnd.google.colaboratory.intrinsic+json": {
              "type": "dataframe",
              "variable_name": "df"
            }
          },
          "metadata": {},
          "execution_count": 47
        }
      ]
    },
    {
      "cell_type": "markdown",
      "source": [],
      "metadata": {
        "id": "50l-HFQVFPhe"
      }
    },
    {
      "cell_type": "markdown",
      "source": [
        "## Разделение на тестовую и обучающую выборки"
      ],
      "metadata": {
        "id": "VtKW2AD2GVMh"
      }
    },
    {
      "cell_type": "markdown",
      "source": [
        "Тестовая выборка - 20%"
      ],
      "metadata": {
        "id": "HaIdWTpgGy_M"
      }
    },
    {
      "cell_type": "code",
      "source": [
        "numeric = ['CreditScore', 'Age', 'Balance',\n",
        "           'EstimatedSalary', 'Mem__no__Products',\n",
        "           'Male']\n",
        "\n",
        "X = df[numeric] # Признаки\n",
        "y = df[\"Exited\"] # целевая функция\n",
        "\n",
        "y = y.astype(int)\n",
        "\n",
        "X_train, X_test, y_train, y_test = train_test_split(X, y, test_size=0.2, random_state=42, stratify=y)"
      ],
      "metadata": {
        "id": "pgAx5RzgGbA1"
      },
      "execution_count": 89,
      "outputs": []
    },
    {
      "cell_type": "markdown",
      "source": [
        "Вывод полученных выборок:"
      ],
      "metadata": {
        "id": "mKJqd-WHITRd"
      }
    },
    {
      "cell_type": "code",
      "source": [
        "print(\"Обучающая выборка:\", y_train.value_counts())\n",
        "print(\"Тестовая выборка:\", y_test.value_counts())"
      ],
      "metadata": {
        "colab": {
          "base_uri": "https://localhost:8080/"
        },
        "id": "9NLyjmwzISzo",
        "outputId": "06371e4e-b4ac-42c1-c95c-9b17cca527a1"
      },
      "execution_count": 49,
      "outputs": [
        {
          "output_type": "stream",
          "name": "stdout",
          "text": [
            "Обучающая выборка: Exited\n",
            "0    109385\n",
            "1     29225\n",
            "Name: count, dtype: int64\n",
            "Тестовая выборка: Exited\n",
            "0    27347\n",
            "1     7306\n",
            "Name: count, dtype: int64\n"
          ]
        }
      ]
    },
    {
      "cell_type": "markdown",
      "source": [
        "## Метод К ближайших соседей"
      ],
      "metadata": {
        "id": "pXYj9DFeA8Wa"
      }
    },
    {
      "cell_type": "markdown",
      "source": [
        "Построение графика"
      ],
      "metadata": {
        "id": "RnCeaCFSB3lo"
      }
    },
    {
      "cell_type": "code",
      "source": [
        "def decision_boundary_plot(X, y, X_train, y_train, clf, feature_indexes, title=None):\n",
        "    print(X.columns[feature_indexes])\n",
        "    feature1_name, feature2_name = X.columns[feature_indexes]\n",
        "    X_feature_columns = X.values[:, feature_indexes]\n",
        "    X_train_feature_columns = X_train.iloc[:, feature_indexes]\n",
        "    clf.fit(X_train_feature_columns, y_train)\n",
        "\n",
        "    plot_decision_regions(X=X_feature_columns, y=y.values, clf=clf, scatter_kwargs={'s': 10})\n",
        "    plt.xlabel(feature1_name)\n",
        "    plt.ylabel(feature2_name)\n",
        "    plt.axis([0, 1, 0, 1])\n",
        "    plt.title(title)"
      ],
      "metadata": {
        "id": "GScov2jeB06O"
      },
      "execution_count": 50,
      "outputs": []
    },
    {
      "cell_type": "code",
      "source": [
        "# sk_knn_clf = KNeighborsClassifier()\n",
        "# sk_knn_clf.fit(X_train, y_train)\n",
        "# sk_knn_clf_pred_res = sk_knn_clf.predict(X_test)\n",
        "# sk_knn_clf_accuracy = accuracy_score(y_test, sk_knn_clf_pred_res)\n",
        "\n",
        "# print(f'sk KNN classifier accuracy: {sk_knn_clf_accuracy:}')\n",
        "# print(sk_knn_clf_pred_res)\n",
        "\n",
        "# feature_indexes = [7, 8]\n",
        "# title1 = 'KNeighborsClassifier surface'\n",
        "# decision_boundary_plot(X, y, X_train, y_train, sk_knn_clf, feature_indexes, title1)"
      ],
      "metadata": {
        "id": "9lPkGXvlPpcr"
      },
      "execution_count": 51,
      "outputs": []
    },
    {
      "cell_type": "code",
      "source": [
        "sk_knn_reg = KNeighborsRegressor()\n",
        "sk_knn_reg.fit(X_train, y_train)\n",
        "sk_knn_reg_pred_res = sk_knn_reg.predict(X_test)\n",
        "\n",
        "sk_knn_reg_r2 = r2_score(y_test, sk_knn_reg_pred_res)\n",
        "\n",
        "print(f'sk KNN regressor R2 score: {sk_knn_reg_r2}')\n",
        "print(sk_knn_reg_pred_res)\n"
      ],
      "metadata": {
        "colab": {
          "base_uri": "https://localhost:8080/"
        },
        "id": "Z-IL9uOYBBi8",
        "outputId": "3558db0a-f4a2-4708-8f32-3ff916531203"
      },
      "execution_count": 74,
      "outputs": [
        {
          "output_type": "stream",
          "name": "stdout",
          "text": [
            "sk KNN regressor R2 score: 0.19546323711412483\n",
            "[0.  0.2 0.  ... 0.  0.6 0.2]\n"
          ]
        }
      ]
    },
    {
      "cell_type": "markdown",
      "source": [
        "Модель не выдает при изменении характеристик прирост больше 0.2. Можно попробовать логистическую регрессию"
      ],
      "metadata": {
        "id": "NqBXnuvSSIPE"
      }
    },
    {
      "cell_type": "code",
      "source": [
        "model = LogisticRegression()\n",
        "\n",
        "model.fit(X_train, y_train)\n",
        "\n",
        "y_pred = model.predict(X_test)\n",
        "\n",
        "accuracy = accuracy_score(y_test, y_pred)\n",
        "print(\"Accuracy:\", accuracy)"
      ],
      "metadata": {
        "colab": {
          "base_uri": "https://localhost:8080/"
        },
        "id": "mvyv_0f9SVHP",
        "outputId": "7addc240-d776-45e2-ae51-6cc225de06e5"
      },
      "execution_count": 90,
      "outputs": [
        {
          "output_type": "stream",
          "name": "stdout",
          "text": [
            "Accuracy: 0.8203618734308717\n"
          ]
        }
      ]
    },
    {
      "cell_type": "markdown",
      "source": [
        "У логистической регрессии на  тестовой выборке лучший полученный результат - 82%"
      ],
      "metadata": {
        "id": "XEqUXbMGTWhp"
      }
    }
  ],
  "metadata": {
    "colab": {
      "provenance": [],
      "toc_visible": true,
      "mount_file_id": "1q7joYjfxxgYPFEj_ZHflJFUlzGxsfvFb",
      "authorship_tag": "ABX9TyN4ZgEhJee9hJmxOvayadPm",
      "include_colab_link": true
    },
    "kernelspec": {
      "display_name": "Python 3",
      "name": "python3"
    },
    "language_info": {
      "name": "python"
    }
  },
  "nbformat": 4,
  "nbformat_minor": 0
}